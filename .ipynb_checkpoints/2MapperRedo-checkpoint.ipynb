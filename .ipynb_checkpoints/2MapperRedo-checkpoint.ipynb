{
 "cells": [
  {
   "cell_type": "code",
   "execution_count": 20,
   "id": "2e2596d1-50c0-4af0-961b-c69855e5c75f",
   "metadata": {},
   "outputs": [],
   "source": [
    "import numpy as np\n",
    "import pandas as pd\n",
    "import Surfaces\n",
    "import Giotto2Mapper\n",
    "import plotly.graph_objects as go\n",
    "import plotly\n",
    "import igraph"
   ]
  },
  {
   "cell_type": "code",
   "execution_count": 4,
   "id": "d7dac9af-2346-4969-a77f-c32b6f46778c",
   "metadata": {},
   "outputs": [],
   "source": [
    "from gtda.mapper import (\n",
    "    CubicalCover,\n",
    "    make_mapper_pipeline,\n",
    "    Projection,\n",
    "    plot_static_mapper_graph,\n",
    "    plot_interactive_mapper_graph,\n",
    "    MapperInteractivePlotter,\n",
    "    nerve,\n",
    "    FirstHistogramGap\n",
    ")\n",
    "from sklearn.cluster import DBSCAN\n",
    "from sklearn.decomposition import PCA\n",
    "from functools import reduce\n",
    "from LatticeCover import LatticeCover"
   ]
  },
  {
   "cell_type": "code",
   "execution_count": 38,
   "id": "6e46f5d3-2a90-4bdd-a8bb-092e2f45f895",
   "metadata": {},
   "outputs": [],
   "source": [
    "data = Surfaces.sample_torus(100)\n",
    "pipe = make_mapper_pipeline(\n",
    "    filter_func = Projection(columns = [0,1,2]),\n",
    "    cover = LatticeCover(),\n",
    "    clusterer = DBSCAN(),\n",
    "    verbose = True,\n",
    "    store_edge_elements = True\n",
    ")\n",
    "filter = Projection(columns = [0,1])\n",
    "cover = LatticeCover()"
   ]
  },
  {
   "cell_type": "code",
   "execution_count": 39,
   "id": "7886d09a-88e9-4ca2-94ba-07fe5abdae05",
   "metadata": {},
   "outputs": [
    {
     "data": {
      "text/plain": [
       "(100, 2)"
      ]
     },
     "execution_count": 39,
     "metadata": {},
     "output_type": "execute_result"
    }
   ],
   "source": [
    "fit_data = filter.fit_transform(data)\n",
    "fit_data.shape"
   ]
  },
  {
   "cell_type": "code",
   "execution_count": 40,
   "id": "ad60114b-a2f1-4365-bfe7-a1539d22fdb1",
   "metadata": {},
   "outputs": [
    {
     "data": {
      "text/plain": [
       "(100, 94)"
      ]
     },
     "execution_count": 40,
     "metadata": {},
     "output_type": "execute_result"
    }
   ],
   "source": [
    "cov_data = cover.fit_transform(fit_data)\n",
    "cov_data.shape"
   ]
  },
  {
   "cell_type": "code",
   "execution_count": 41,
   "id": "28a56858-42a6-4053-85dd-a1a42c5ff797",
   "metadata": {},
   "outputs": [
    {
     "data": {
      "text/plain": [
       "True"
      ]
     },
     "execution_count": 41,
     "metadata": {},
     "output_type": "execute_result"
    }
   ],
   "source": [
    "len(fit_data) == len(cov_data)"
   ]
  },
  {
   "cell_type": "code",
   "execution_count": 42,
   "id": "923b5446-678f-42c8-9d30-5a7d4ffbd753",
   "metadata": {},
   "outputs": [
    {
     "name": "stdout",
     "output_type": "stream",
     "text": [
      "[Pipeline] ............ (step 1 of 3) Processing scaler, total=   0.0s\n",
      "[Pipeline] ....... (step 2 of 3) Processing filter_func, total=   0.0s\n",
      "[Pipeline] ............. (step 3 of 3) Processing cover, total=   0.2s\n",
      "[Pipeline] .... (step 1 of 3) Processing pullback_cover, total=   0.2s\n",
      "[Pipeline] ........ (step 2 of 3) Processing clustering, total=   0.1s\n",
      "[Pipeline] ............. (step 3 of 3) Processing nerve, total=   0.1s\n"
     ]
    }
   ],
   "source": [
    "graph = pipe.fit_transform(data)"
   ]
  },
  {
   "cell_type": "code",
   "execution_count": 43,
   "id": "98b71127-b477-40df-9323-eb8e917daafa",
   "metadata": {},
   "outputs": [
    {
     "data": {
      "text/plain": [
       "59"
      ]
     },
     "execution_count": 43,
     "metadata": {},
     "output_type": "execute_result"
    }
   ],
   "source": [
    "len(graph.list_triangles())"
   ]
  },
  {
   "cell_type": "code",
   "execution_count": 44,
   "id": "4e47ebbf-220d-4b05-a283-891bb16d8f46",
   "metadata": {},
   "outputs": [],
   "source": [
    "simplex_list = Giotto2Mapper.two_dim_nerve(graph)"
   ]
  },
  {
   "cell_type": "code",
   "execution_count": 45,
   "id": "c972068d-6030-402e-bf7f-d4113f97b799",
   "metadata": {
    "scrolled": true
   },
   "outputs": [
    {
     "data": {
      "text/plain": [
       "[[igraph.Vertex(<igraph.Graph object at 0x7f0a99781540>, 2, {'pullback_set_label': 1, 'partial_cluster_label': -1, 'node_elements': array([2])}),\n",
       "  igraph.Vertex(<igraph.Graph object at 0x7f0a99781540>, 3, {'pullback_set_label': 2, 'partial_cluster_label': -1, 'node_elements': array([ 2, 53])}),\n",
       "  igraph.Vertex(<igraph.Graph object at 0x7f0a99781540>, 4, {'pullback_set_label': 7, 'partial_cluster_label': -1, 'node_elements': array([ 2, 25])})],\n",
       " [igraph.Vertex(<igraph.Graph object at 0x7f0a99781540>, 7, {'pullback_set_label': 60, 'partial_cluster_label': -1, 'node_elements': array([ 4, 16, 55])}),\n",
       "  igraph.Vertex(<igraph.Graph object at 0x7f0a99781540>, 8, {'pullback_set_label': 65, 'partial_cluster_label': -1, 'node_elements': array([ 4, 55])}),\n",
       "  igraph.Vertex(<igraph.Graph object at 0x7f0a99781540>, 9, {'pullback_set_label': 66, 'partial_cluster_label': -1, 'node_elements': array([4])})],\n",
       " [igraph.Vertex(<igraph.Graph object at 0x7f0a99781540>, 11, {'pullback_set_label': 87, 'partial_cluster_label': -1, 'node_elements': array([ 5, 11, 30, 60, 83])}),\n",
       "  igraph.Vertex(<igraph.Graph object at 0x7f0a99781540>, 20, {'pullback_set_label': 80, 'partial_cluster_label': -1, 'node_elements': array([11, 30])}),\n",
       "  igraph.Vertex(<igraph.Graph object at 0x7f0a99781540>, 21, {'pullback_set_label': 81, 'partial_cluster_label': -1, 'node_elements': array([11, 20, 60])})],\n",
       " [igraph.Vertex(<igraph.Graph object at 0x7f0a99781540>, 11, {'pullback_set_label': 87, 'partial_cluster_label': -1, 'node_elements': array([ 5, 11, 30, 60, 83])}),\n",
       "  igraph.Vertex(<igraph.Graph object at 0x7f0a99781540>, 20, {'pullback_set_label': 80, 'partial_cluster_label': -1, 'node_elements': array([11, 30])}),\n",
       "  igraph.Vertex(<igraph.Graph object at 0x7f0a99781540>, 58, {'pullback_set_label': 86, 'partial_cluster_label': -1, 'node_elements': array([30, 54])})],\n",
       " [igraph.Vertex(<igraph.Graph object at 0x7f0a99781540>, 11, {'pullback_set_label': 87, 'partial_cluster_label': -1, 'node_elements': array([ 5, 11, 30, 60, 83])}),\n",
       "  igraph.Vertex(<igraph.Graph object at 0x7f0a99781540>, 20, {'pullback_set_label': 80, 'partial_cluster_label': -1, 'node_elements': array([11, 30])}),\n",
       "  igraph.Vertex(<igraph.Graph object at 0x7f0a99781540>, 59, {'pullback_set_label': 96, 'partial_cluster_label': -1, 'node_elements': array([30, 54, 60])})],\n",
       " [igraph.Vertex(<igraph.Graph object at 0x7f0a99781540>, 11, {'pullback_set_label': 87, 'partial_cluster_label': -1, 'node_elements': array([ 5, 11, 30, 60, 83])}),\n",
       "  igraph.Vertex(<igraph.Graph object at 0x7f0a99781540>, 21, {'pullback_set_label': 81, 'partial_cluster_label': -1, 'node_elements': array([11, 20, 60])}),\n",
       "  igraph.Vertex(<igraph.Graph object at 0x7f0a99781540>, 39, {'pullback_set_label': 97, 'partial_cluster_label': -1, 'node_elements': array([20, 60])})],\n",
       " [igraph.Vertex(<igraph.Graph object at 0x7f0a99781540>, 11, {'pullback_set_label': 87, 'partial_cluster_label': -1, 'node_elements': array([ 5, 11, 30, 60, 83])}),\n",
       "  igraph.Vertex(<igraph.Graph object at 0x7f0a99781540>, 21, {'pullback_set_label': 81, 'partial_cluster_label': -1, 'node_elements': array([11, 20, 60])}),\n",
       "  igraph.Vertex(<igraph.Graph object at 0x7f0a99781540>, 59, {'pullback_set_label': 96, 'partial_cluster_label': -1, 'node_elements': array([30, 54, 60])})],\n",
       " [igraph.Vertex(<igraph.Graph object at 0x7f0a99781540>, 11, {'pullback_set_label': 87, 'partial_cluster_label': -1, 'node_elements': array([ 5, 11, 30, 60, 83])}),\n",
       "  igraph.Vertex(<igraph.Graph object at 0x7f0a99781540>, 39, {'pullback_set_label': 97, 'partial_cluster_label': -1, 'node_elements': array([20, 60])}),\n",
       "  igraph.Vertex(<igraph.Graph object at 0x7f0a99781540>, 59, {'pullback_set_label': 96, 'partial_cluster_label': -1, 'node_elements': array([30, 54, 60])})],\n",
       " [igraph.Vertex(<igraph.Graph object at 0x7f0a99781540>, 11, {'pullback_set_label': 87, 'partial_cluster_label': -1, 'node_elements': array([ 5, 11, 30, 60, 83])}),\n",
       "  igraph.Vertex(<igraph.Graph object at 0x7f0a99781540>, 58, {'pullback_set_label': 86, 'partial_cluster_label': -1, 'node_elements': array([30, 54])}),\n",
       "  igraph.Vertex(<igraph.Graph object at 0x7f0a99781540>, 59, {'pullback_set_label': 96, 'partial_cluster_label': -1, 'node_elements': array([30, 54, 60])})],\n",
       " [igraph.Vertex(<igraph.Graph object at 0x7f0a99781540>, 12, {'pullback_set_label': 19, 'partial_cluster_label': -1, 'node_elements': array([6])}),\n",
       "  igraph.Vertex(<igraph.Graph object at 0x7f0a99781540>, 13, {'pullback_set_label': 27, 'partial_cluster_label': -1, 'node_elements': array([ 6,  8, 68])}),\n",
       "  igraph.Vertex(<igraph.Graph object at 0x7f0a99781540>, 14, {'pullback_set_label': 32, 'partial_cluster_label': -1, 'node_elements': array([6, 8])})],\n",
       " [igraph.Vertex(<igraph.Graph object at 0x7f0a99781540>, 13, {'pullback_set_label': 27, 'partial_cluster_label': -1, 'node_elements': array([ 6,  8, 68])}),\n",
       "  igraph.Vertex(<igraph.Graph object at 0x7f0a99781540>, 14, {'pullback_set_label': 32, 'partial_cluster_label': -1, 'node_elements': array([6, 8])}),\n",
       "  igraph.Vertex(<igraph.Graph object at 0x7f0a99781540>, 16, {'pullback_set_label': 40, 'partial_cluster_label': -1, 'node_elements': array([ 8, 95])})],\n",
       " [igraph.Vertex(<igraph.Graph object at 0x7f0a99781540>, 13, {'pullback_set_label': 27, 'partial_cluster_label': -1, 'node_elements': array([ 6,  8, 68])}),\n",
       "  igraph.Vertex(<igraph.Graph object at 0x7f0a99781540>, 104, {'pullback_set_label': 17, 'partial_cluster_label': -1, 'node_elements': array([68, 78, 93])}),\n",
       "  igraph.Vertex(<igraph.Graph object at 0x7f0a99781540>, 105, {'pullback_set_label': 18, 'partial_cluster_label': -1, 'node_elements': array([68, 78])})],\n",
       " [igraph.Vertex(<igraph.Graph object at 0x7f0a99781540>, 16, {'pullback_set_label': 40, 'partial_cluster_label': -1, 'node_elements': array([ 8, 95])}),\n",
       "  igraph.Vertex(<igraph.Graph object at 0x7f0a99781540>, 108, {'pullback_set_label': 42, 'partial_cluster_label': -1, 'node_elements': array([72, 95])}),\n",
       "  igraph.Vertex(<igraph.Graph object at 0x7f0a99781540>, 127, {'pullback_set_label': 43, 'partial_cluster_label': -1, 'node_elements': array([95])})],\n",
       " [igraph.Vertex(<igraph.Graph object at 0x7f0a99781540>, 18, {'pullback_set_label': 99, 'partial_cluster_label': -1, 'node_elements': array([ 9, 19])}),\n",
       "  igraph.Vertex(<igraph.Graph object at 0x7f0a99781540>, 36, {'pullback_set_label': 100, 'partial_cluster_label': -1, 'node_elements': array([19, 54])}),\n",
       "  igraph.Vertex(<igraph.Graph object at 0x7f0a99781540>, 37, {'pullback_set_label': 113, 'partial_cluster_label': -1, 'node_elements': array([19])})],\n",
       " [igraph.Vertex(<igraph.Graph object at 0x7f0a99781540>, 20, {'pullback_set_label': 80, 'partial_cluster_label': -1, 'node_elements': array([11, 30])}),\n",
       "  igraph.Vertex(<igraph.Graph object at 0x7f0a99781540>, 58, {'pullback_set_label': 86, 'partial_cluster_label': -1, 'node_elements': array([30, 54])}),\n",
       "  igraph.Vertex(<igraph.Graph object at 0x7f0a99781540>, 59, {'pullback_set_label': 96, 'partial_cluster_label': -1, 'node_elements': array([30, 54, 60])})],\n",
       " [igraph.Vertex(<igraph.Graph object at 0x7f0a99781540>, 21, {'pullback_set_label': 81, 'partial_cluster_label': -1, 'node_elements': array([11, 20, 60])}),\n",
       "  igraph.Vertex(<igraph.Graph object at 0x7f0a99781540>, 38, {'pullback_set_label': 82, 'partial_cluster_label': -1, 'node_elements': array([20])}),\n",
       "  igraph.Vertex(<igraph.Graph object at 0x7f0a99781540>, 39, {'pullback_set_label': 97, 'partial_cluster_label': -1, 'node_elements': array([20, 60])})],\n",
       " [igraph.Vertex(<igraph.Graph object at 0x7f0a99781540>, 21, {'pullback_set_label': 81, 'partial_cluster_label': -1, 'node_elements': array([11, 20, 60])}),\n",
       "  igraph.Vertex(<igraph.Graph object at 0x7f0a99781540>, 39, {'pullback_set_label': 97, 'partial_cluster_label': -1, 'node_elements': array([20, 60])}),\n",
       "  igraph.Vertex(<igraph.Graph object at 0x7f0a99781540>, 59, {'pullback_set_label': 96, 'partial_cluster_label': -1, 'node_elements': array([30, 54, 60])})],\n",
       " [igraph.Vertex(<igraph.Graph object at 0x7f0a99781540>, 25, {'pullback_set_label': 104, 'partial_cluster_label': -1, 'node_elements': array([14, 33])}),\n",
       "  igraph.Vertex(<igraph.Graph object at 0x7f0a99781540>, 26, {'pullback_set_label': 108, 'partial_cluster_label': -1, 'node_elements': array([14, 33, 76])}),\n",
       "  igraph.Vertex(<igraph.Graph object at 0x7f0a99781540>, 27, {'pullback_set_label': 120, 'partial_cluster_label': -1, 'node_elements': array([14])})],\n",
       " [igraph.Vertex(<igraph.Graph object at 0x7f0a99781540>, 25, {'pullback_set_label': 104, 'partial_cluster_label': -1, 'node_elements': array([14, 33])}),\n",
       "  igraph.Vertex(<igraph.Graph object at 0x7f0a99781540>, 26, {'pullback_set_label': 108, 'partial_cluster_label': -1, 'node_elements': array([14, 33, 76])}),\n",
       "  igraph.Vertex(<igraph.Graph object at 0x7f0a99781540>, 62, {'pullback_set_label': 109, 'partial_cluster_label': -1, 'node_elements': array([33, 79, 80])})],\n",
       " [igraph.Vertex(<igraph.Graph object at 0x7f0a99781540>, 25, {'pullback_set_label': 104, 'partial_cluster_label': -1, 'node_elements': array([14, 33])}),\n",
       "  igraph.Vertex(<igraph.Graph object at 0x7f0a99781540>, 26, {'pullback_set_label': 108, 'partial_cluster_label': -1, 'node_elements': array([14, 33, 76])}),\n",
       "  igraph.Vertex(<igraph.Graph object at 0x7f0a99781540>, 63, {'pullback_set_label': 121, 'partial_cluster_label': -1, 'node_elements': array([33])})],\n",
       " [igraph.Vertex(<igraph.Graph object at 0x7f0a99781540>, 25, {'pullback_set_label': 104, 'partial_cluster_label': -1, 'node_elements': array([14, 33])}),\n",
       "  igraph.Vertex(<igraph.Graph object at 0x7f0a99781540>, 62, {'pullback_set_label': 109, 'partial_cluster_label': -1, 'node_elements': array([33, 79, 80])}),\n",
       "  igraph.Vertex(<igraph.Graph object at 0x7f0a99781540>, 63, {'pullback_set_label': 121, 'partial_cluster_label': -1, 'node_elements': array([33])})],\n",
       " [igraph.Vertex(<igraph.Graph object at 0x7f0a99781540>, 26, {'pullback_set_label': 108, 'partial_cluster_label': -1, 'node_elements': array([14, 33, 76])}),\n",
       "  igraph.Vertex(<igraph.Graph object at 0x7f0a99781540>, 62, {'pullback_set_label': 109, 'partial_cluster_label': -1, 'node_elements': array([33, 79, 80])}),\n",
       "  igraph.Vertex(<igraph.Graph object at 0x7f0a99781540>, 63, {'pullback_set_label': 121, 'partial_cluster_label': -1, 'node_elements': array([33])})],\n",
       " [igraph.Vertex(<igraph.Graph object at 0x7f0a99781540>, 30, {'pullback_set_label': 55, 'partial_cluster_label': -1, 'node_elements': array([17, 66, 74])}),\n",
       "  igraph.Vertex(<igraph.Graph object at 0x7f0a99781540>, 31, {'pullback_set_label': 57, 'partial_cluster_label': -1, 'node_elements': array([17])}),\n",
       "  igraph.Vertex(<igraph.Graph object at 0x7f0a99781540>, 32, {'pullback_set_label': 58, 'partial_cluster_label': -1, 'node_elements': array([17, 66])})],\n",
       " [igraph.Vertex(<igraph.Graph object at 0x7f0a99781540>, 30, {'pullback_set_label': 55, 'partial_cluster_label': -1, 'node_elements': array([17, 66, 74])}),\n",
       "  igraph.Vertex(<igraph.Graph object at 0x7f0a99781540>, 32, {'pullback_set_label': 58, 'partial_cluster_label': -1, 'node_elements': array([17, 66])}),\n",
       "  igraph.Vertex(<igraph.Graph object at 0x7f0a99781540>, 102, {'pullback_set_label': 56, 'partial_cluster_label': -1, 'node_elements': array([66])})],\n",
       " [igraph.Vertex(<igraph.Graph object at 0x7f0a99781540>, 30, {'pullback_set_label': 55, 'partial_cluster_label': -1, 'node_elements': array([17, 66, 74])}),\n",
       "  igraph.Vertex(<igraph.Graph object at 0x7f0a99781540>, 98, {'pullback_set_label': 48, 'partial_cluster_label': -1, 'node_elements': array([63, 65, 74])}),\n",
       "  igraph.Vertex(<igraph.Graph object at 0x7f0a99781540>, 110, {'pullback_set_label': 47, 'partial_cluster_label': -1, 'node_elements': array([74])})],\n",
       " [igraph.Vertex(<igraph.Graph object at 0x7f0a99781540>, 33, {'pullback_set_label': 25, 'partial_cluster_label': -1, 'node_elements': array([18, 99])}),\n",
       "  igraph.Vertex(<igraph.Graph object at 0x7f0a99781540>, 34, {'pullback_set_label': 30, 'partial_cluster_label': -1, 'node_elements': array([18, 70])}),\n",
       "  igraph.Vertex(<igraph.Graph object at 0x7f0a99781540>, 35, {'pullback_set_label': 38, 'partial_cluster_label': -1, 'node_elements': array([18, 70, 99])})],\n",
       " [igraph.Vertex(<igraph.Graph object at 0x7f0a99781540>, 33, {'pullback_set_label': 25, 'partial_cluster_label': -1, 'node_elements': array([18, 99])}),\n",
       "  igraph.Vertex(<igraph.Graph object at 0x7f0a99781540>, 35, {'pullback_set_label': 38, 'partial_cluster_label': -1, 'node_elements': array([18, 70, 99])}),\n",
       "  igraph.Vertex(<igraph.Graph object at 0x7f0a99781540>, 57, {'pullback_set_label': 24, 'partial_cluster_label': -1, 'node_elements': array([29, 99])})],\n",
       " [igraph.Vertex(<igraph.Graph object at 0x7f0a99781540>, 33, {'pullback_set_label': 25, 'partial_cluster_label': -1, 'node_elements': array([18, 99])}),\n",
       "  igraph.Vertex(<igraph.Graph object at 0x7f0a99781540>, 35, {'pullback_set_label': 38, 'partial_cluster_label': -1, 'node_elements': array([18, 70, 99])}),\n",
       "  igraph.Vertex(<igraph.Graph object at 0x7f0a99781540>, 131, {'pullback_set_label': 36, 'partial_cluster_label': -1, 'node_elements': array([99])})],\n",
       " [igraph.Vertex(<igraph.Graph object at 0x7f0a99781540>, 33, {'pullback_set_label': 25, 'partial_cluster_label': -1, 'node_elements': array([18, 99])}),\n",
       "  igraph.Vertex(<igraph.Graph object at 0x7f0a99781540>, 57, {'pullback_set_label': 24, 'partial_cluster_label': -1, 'node_elements': array([29, 99])}),\n",
       "  igraph.Vertex(<igraph.Graph object at 0x7f0a99781540>, 131, {'pullback_set_label': 36, 'partial_cluster_label': -1, 'node_elements': array([99])})],\n",
       " [igraph.Vertex(<igraph.Graph object at 0x7f0a99781540>, 34, {'pullback_set_label': 30, 'partial_cluster_label': -1, 'node_elements': array([18, 70])}),\n",
       "  igraph.Vertex(<igraph.Graph object at 0x7f0a99781540>, 35, {'pullback_set_label': 38, 'partial_cluster_label': -1, 'node_elements': array([18, 70, 99])}),\n",
       "  igraph.Vertex(<igraph.Graph object at 0x7f0a99781540>, 107, {'pullback_set_label': 41, 'partial_cluster_label': -1, 'node_elements': array([70])})],\n",
       " [igraph.Vertex(<igraph.Graph object at 0x7f0a99781540>, 35, {'pullback_set_label': 38, 'partial_cluster_label': -1, 'node_elements': array([18, 70, 99])}),\n",
       "  igraph.Vertex(<igraph.Graph object at 0x7f0a99781540>, 57, {'pullback_set_label': 24, 'partial_cluster_label': -1, 'node_elements': array([29, 99])}),\n",
       "  igraph.Vertex(<igraph.Graph object at 0x7f0a99781540>, 131, {'pullback_set_label': 36, 'partial_cluster_label': -1, 'node_elements': array([99])})],\n",
       " [igraph.Vertex(<igraph.Graph object at 0x7f0a99781540>, 36, {'pullback_set_label': 100, 'partial_cluster_label': -1, 'node_elements': array([19, 54])}),\n",
       "  igraph.Vertex(<igraph.Graph object at 0x7f0a99781540>, 58, {'pullback_set_label': 86, 'partial_cluster_label': -1, 'node_elements': array([30, 54])}),\n",
       "  igraph.Vertex(<igraph.Graph object at 0x7f0a99781540>, 59, {'pullback_set_label': 96, 'partial_cluster_label': -1, 'node_elements': array([30, 54, 60])})],\n",
       " [igraph.Vertex(<igraph.Graph object at 0x7f0a99781540>, 36, {'pullback_set_label': 100, 'partial_cluster_label': -1, 'node_elements': array([19, 54])}),\n",
       "  igraph.Vertex(<igraph.Graph object at 0x7f0a99781540>, 58, {'pullback_set_label': 86, 'partial_cluster_label': -1, 'node_elements': array([30, 54])}),\n",
       "  igraph.Vertex(<igraph.Graph object at 0x7f0a99781540>, 91, {'pullback_set_label': 95, 'partial_cluster_label': -1, 'node_elements': array([54, 64])})],\n",
       " [igraph.Vertex(<igraph.Graph object at 0x7f0a99781540>, 36, {'pullback_set_label': 100, 'partial_cluster_label': -1, 'node_elements': array([19, 54])}),\n",
       "  igraph.Vertex(<igraph.Graph object at 0x7f0a99781540>, 59, {'pullback_set_label': 96, 'partial_cluster_label': -1, 'node_elements': array([30, 54, 60])}),\n",
       "  igraph.Vertex(<igraph.Graph object at 0x7f0a99781540>, 91, {'pullback_set_label': 95, 'partial_cluster_label': -1, 'node_elements': array([54, 64])})],\n",
       " [igraph.Vertex(<igraph.Graph object at 0x7f0a99781540>, 41, {'pullback_set_label': 84, 'partial_cluster_label': -1, 'node_elements': array([22, 46])}),\n",
       "  igraph.Vertex(<igraph.Graph object at 0x7f0a99781540>, 45, {'pullback_set_label': 83, 'partial_cluster_label': -1, 'node_elements': array([23, 46])}),\n",
       "  igraph.Vertex(<igraph.Graph object at 0x7f0a99781540>, 81, {'pullback_set_label': 94, 'partial_cluster_label': -1, 'node_elements': array([46])})],\n",
       " [igraph.Vertex(<igraph.Graph object at 0x7f0a99781540>, 43, {'pullback_set_label': 74, 'partial_cluster_label': -1, 'node_elements': array([23])}),\n",
       "  igraph.Vertex(<igraph.Graph object at 0x7f0a99781540>, 44, {'pullback_set_label': 75, 'partial_cluster_label': -1, 'node_elements': array([23, 59])}),\n",
       "  igraph.Vertex(<igraph.Graph object at 0x7f0a99781540>, 45, {'pullback_set_label': 83, 'partial_cluster_label': -1, 'node_elements': array([23, 46])})],\n",
       " [igraph.Vertex(<igraph.Graph object at 0x7f0a99781540>, 46, {'pullback_set_label': 92, 'partial_cluster_label': -1, 'node_elements': array([24, 64])}),\n",
       "  igraph.Vertex(<igraph.Graph object at 0x7f0a99781540>, 47, {'pullback_set_label': 105, 'partial_cluster_label': -1, 'node_elements': array([24, 79, 80])}),\n",
       "  igraph.Vertex(<igraph.Graph object at 0x7f0a99781540>, 48, {'pullback_set_label': 106, 'partial_cluster_label': -1, 'node_elements': array([24])})],\n",
       " [igraph.Vertex(<igraph.Graph object at 0x7f0a99781540>, 46, {'pullback_set_label': 92, 'partial_cluster_label': -1, 'node_elements': array([24, 64])}),\n",
       "  igraph.Vertex(<igraph.Graph object at 0x7f0a99781540>, 47, {'pullback_set_label': 105, 'partial_cluster_label': -1, 'node_elements': array([24, 79, 80])}),\n",
       "  igraph.Vertex(<igraph.Graph object at 0x7f0a99781540>, 49, {'pullback_set_label': 110, 'partial_cluster_label': -1, 'node_elements': array([24, 79])})],\n",
       " [igraph.Vertex(<igraph.Graph object at 0x7f0a99781540>, 46, {'pullback_set_label': 92, 'partial_cluster_label': -1, 'node_elements': array([24, 64])}),\n",
       "  igraph.Vertex(<igraph.Graph object at 0x7f0a99781540>, 48, {'pullback_set_label': 106, 'partial_cluster_label': -1, 'node_elements': array([24])}),\n",
       "  igraph.Vertex(<igraph.Graph object at 0x7f0a99781540>, 49, {'pullback_set_label': 110, 'partial_cluster_label': -1, 'node_elements': array([24, 79])})],\n",
       " [igraph.Vertex(<igraph.Graph object at 0x7f0a99781540>, 46, {'pullback_set_label': 92, 'partial_cluster_label': -1, 'node_elements': array([24, 64])}),\n",
       "  igraph.Vertex(<igraph.Graph object at 0x7f0a99781540>, 91, {'pullback_set_label': 95, 'partial_cluster_label': -1, 'node_elements': array([54, 64])}),\n",
       "  igraph.Vertex(<igraph.Graph object at 0x7f0a99781540>, 100, {'pullback_set_label': 79, 'partial_cluster_label': -1, 'node_elements': array([64])})],\n",
       " [igraph.Vertex(<igraph.Graph object at 0x7f0a99781540>, 46, {'pullback_set_label': 92, 'partial_cluster_label': -1, 'node_elements': array([24, 64])}),\n",
       "  igraph.Vertex(<igraph.Graph object at 0x7f0a99781540>, 91, {'pullback_set_label': 95, 'partial_cluster_label': -1, 'node_elements': array([54, 64])}),\n",
       "  igraph.Vertex(<igraph.Graph object at 0x7f0a99781540>, 101, {'pullback_set_label': 93, 'partial_cluster_label': -1, 'node_elements': array([64, 98])})],\n",
       " [igraph.Vertex(<igraph.Graph object at 0x7f0a99781540>, 46, {'pullback_set_label': 92, 'partial_cluster_label': -1, 'node_elements': array([24, 64])}),\n",
       "  igraph.Vertex(<igraph.Graph object at 0x7f0a99781540>, 100, {'pullback_set_label': 79, 'partial_cluster_label': -1, 'node_elements': array([64])}),\n",
       "  igraph.Vertex(<igraph.Graph object at 0x7f0a99781540>, 101, {'pullback_set_label': 93, 'partial_cluster_label': -1, 'node_elements': array([64, 98])})],\n",
       " [igraph.Vertex(<igraph.Graph object at 0x7f0a99781540>, 47, {'pullback_set_label': 105, 'partial_cluster_label': -1, 'node_elements': array([24, 79, 80])}),\n",
       "  igraph.Vertex(<igraph.Graph object at 0x7f0a99781540>, 48, {'pullback_set_label': 106, 'partial_cluster_label': -1, 'node_elements': array([24])}),\n",
       "  igraph.Vertex(<igraph.Graph object at 0x7f0a99781540>, 49, {'pullback_set_label': 110, 'partial_cluster_label': -1, 'node_elements': array([24, 79])})],\n",
       " [igraph.Vertex(<igraph.Graph object at 0x7f0a99781540>, 47, {'pullback_set_label': 105, 'partial_cluster_label': -1, 'node_elements': array([24, 79, 80])}),\n",
       "  igraph.Vertex(<igraph.Graph object at 0x7f0a99781540>, 49, {'pullback_set_label': 110, 'partial_cluster_label': -1, 'node_elements': array([24, 79])}),\n",
       "  igraph.Vertex(<igraph.Graph object at 0x7f0a99781540>, 62, {'pullback_set_label': 109, 'partial_cluster_label': -1, 'node_elements': array([33, 79, 80])})],\n",
       " [igraph.Vertex(<igraph.Graph object at 0x7f0a99781540>, 47, {'pullback_set_label': 105, 'partial_cluster_label': -1, 'node_elements': array([24, 79, 80])}),\n",
       "  igraph.Vertex(<igraph.Graph object at 0x7f0a99781540>, 49, {'pullback_set_label': 110, 'partial_cluster_label': -1, 'node_elements': array([24, 79])}),\n",
       "  igraph.Vertex(<igraph.Graph object at 0x7f0a99781540>, 114, {'pullback_set_label': 122, 'partial_cluster_label': -1, 'node_elements': array([79])})],\n",
       " [igraph.Vertex(<igraph.Graph object at 0x7f0a99781540>, 47, {'pullback_set_label': 105, 'partial_cluster_label': -1, 'node_elements': array([24, 79, 80])}),\n",
       "  igraph.Vertex(<igraph.Graph object at 0x7f0a99781540>, 62, {'pullback_set_label': 109, 'partial_cluster_label': -1, 'node_elements': array([33, 79, 80])}),\n",
       "  igraph.Vertex(<igraph.Graph object at 0x7f0a99781540>, 114, {'pullback_set_label': 122, 'partial_cluster_label': -1, 'node_elements': array([79])})],\n",
       " [igraph.Vertex(<igraph.Graph object at 0x7f0a99781540>, 47, {'pullback_set_label': 105, 'partial_cluster_label': -1, 'node_elements': array([24, 79, 80])}),\n",
       "  igraph.Vertex(<igraph.Graph object at 0x7f0a99781540>, 62, {'pullback_set_label': 109, 'partial_cluster_label': -1, 'node_elements': array([33, 79, 80])}),\n",
       "  igraph.Vertex(<igraph.Graph object at 0x7f0a99781540>, 115, {'pullback_set_label': 91, 'partial_cluster_label': -1, 'node_elements': array([80])})],\n",
       " [igraph.Vertex(<igraph.Graph object at 0x7f0a99781540>, 49, {'pullback_set_label': 110, 'partial_cluster_label': -1, 'node_elements': array([24, 79])}),\n",
       "  igraph.Vertex(<igraph.Graph object at 0x7f0a99781540>, 62, {'pullback_set_label': 109, 'partial_cluster_label': -1, 'node_elements': array([33, 79, 80])}),\n",
       "  igraph.Vertex(<igraph.Graph object at 0x7f0a99781540>, 114, {'pullback_set_label': 122, 'partial_cluster_label': -1, 'node_elements': array([79])})],\n",
       " [igraph.Vertex(<igraph.Graph object at 0x7f0a99781540>, 58, {'pullback_set_label': 86, 'partial_cluster_label': -1, 'node_elements': array([30, 54])}),\n",
       "  igraph.Vertex(<igraph.Graph object at 0x7f0a99781540>, 59, {'pullback_set_label': 96, 'partial_cluster_label': -1, 'node_elements': array([30, 54, 60])}),\n",
       "  igraph.Vertex(<igraph.Graph object at 0x7f0a99781540>, 91, {'pullback_set_label': 95, 'partial_cluster_label': -1, 'node_elements': array([54, 64])})],\n",
       " [igraph.Vertex(<igraph.Graph object at 0x7f0a99781540>, 69, {'pullback_set_label': 116, 'partial_cluster_label': -1, 'node_elements': array([38, 51])}),\n",
       "  igraph.Vertex(<igraph.Graph object at 0x7f0a99781540>, 84, {'pullback_set_label': 118, 'partial_cluster_label': -1, 'node_elements': array([48, 51, 52, 71, 89])}),\n",
       "  igraph.Vertex(<igraph.Graph object at 0x7f0a99781540>, 88, {'pullback_set_label': 119, 'partial_cluster_label': -1, 'node_elements': array([51])})],\n",
       " [igraph.Vertex(<igraph.Graph object at 0x7f0a99781540>, 69, {'pullback_set_label': 116, 'partial_cluster_label': -1, 'node_elements': array([38, 51])}),\n",
       "  igraph.Vertex(<igraph.Graph object at 0x7f0a99781540>, 84, {'pullback_set_label': 118, 'partial_cluster_label': -1, 'node_elements': array([48, 51, 52, 71, 89])}),\n",
       "  igraph.Vertex(<igraph.Graph object at 0x7f0a99781540>, 89, {'pullback_set_label': 126, 'partial_cluster_label': -1, 'node_elements': array([51, 89])})],\n",
       " [igraph.Vertex(<igraph.Graph object at 0x7f0a99781540>, 69, {'pullback_set_label': 116, 'partial_cluster_label': -1, 'node_elements': array([38, 51])}),\n",
       "  igraph.Vertex(<igraph.Graph object at 0x7f0a99781540>, 88, {'pullback_set_label': 119, 'partial_cluster_label': -1, 'node_elements': array([51])}),\n",
       "  igraph.Vertex(<igraph.Graph object at 0x7f0a99781540>, 89, {'pullback_set_label': 126, 'partial_cluster_label': -1, 'node_elements': array([51, 89])})],\n",
       " [igraph.Vertex(<igraph.Graph object at 0x7f0a99781540>, 75, {'pullback_set_label': 125, 'partial_cluster_label': -1, 'node_elements': array([41, 52, 89])}),\n",
       "  igraph.Vertex(<igraph.Graph object at 0x7f0a99781540>, 84, {'pullback_set_label': 118, 'partial_cluster_label': -1, 'node_elements': array([48, 51, 52, 71, 89])}),\n",
       "  igraph.Vertex(<igraph.Graph object at 0x7f0a99781540>, 89, {'pullback_set_label': 126, 'partial_cluster_label': -1, 'node_elements': array([51, 89])})],\n",
       " [igraph.Vertex(<igraph.Graph object at 0x7f0a99781540>, 80, {'pullback_set_label': 103, 'partial_cluster_label': -1, 'node_elements': array([45, 48])}),\n",
       "  igraph.Vertex(<igraph.Graph object at 0x7f0a99781540>, 83, {'pullback_set_label': 102, 'partial_cluster_label': -1, 'node_elements': array([48, 62, 71])}),\n",
       "  igraph.Vertex(<igraph.Graph object at 0x7f0a99781540>, 84, {'pullback_set_label': 118, 'partial_cluster_label': -1, 'node_elements': array([48, 51, 52, 71, 89])})],\n",
       " [igraph.Vertex(<igraph.Graph object at 0x7f0a99781540>, 83, {'pullback_set_label': 102, 'partial_cluster_label': -1, 'node_elements': array([48, 62, 71])}),\n",
       "  igraph.Vertex(<igraph.Graph object at 0x7f0a99781540>, 84, {'pullback_set_label': 118, 'partial_cluster_label': -1, 'node_elements': array([48, 51, 52, 71, 89])}),\n",
       "  igraph.Vertex(<igraph.Graph object at 0x7f0a99781540>, 97, {'pullback_set_label': 117, 'partial_cluster_label': -1, 'node_elements': array([62, 71])})],\n",
       " [igraph.Vertex(<igraph.Graph object at 0x7f0a99781540>, 83, {'pullback_set_label': 102, 'partial_cluster_label': -1, 'node_elements': array([48, 62, 71])}),\n",
       "  igraph.Vertex(<igraph.Graph object at 0x7f0a99781540>, 96, {'pullback_set_label': 101, 'partial_cluster_label': -1, 'node_elements': array([62])}),\n",
       "  igraph.Vertex(<igraph.Graph object at 0x7f0a99781540>, 97, {'pullback_set_label': 117, 'partial_cluster_label': -1, 'node_elements': array([62, 71])})],\n",
       " [igraph.Vertex(<igraph.Graph object at 0x7f0a99781540>, 84, {'pullback_set_label': 118, 'partial_cluster_label': -1, 'node_elements': array([48, 51, 52, 71, 89])}),\n",
       "  igraph.Vertex(<igraph.Graph object at 0x7f0a99781540>, 88, {'pullback_set_label': 119, 'partial_cluster_label': -1, 'node_elements': array([51])}),\n",
       "  igraph.Vertex(<igraph.Graph object at 0x7f0a99781540>, 89, {'pullback_set_label': 126, 'partial_cluster_label': -1, 'node_elements': array([51, 89])})],\n",
       " [igraph.Vertex(<igraph.Graph object at 0x7f0a99781540>, 91, {'pullback_set_label': 95, 'partial_cluster_label': -1, 'node_elements': array([54, 64])}),\n",
       "  igraph.Vertex(<igraph.Graph object at 0x7f0a99781540>, 100, {'pullback_set_label': 79, 'partial_cluster_label': -1, 'node_elements': array([64])}),\n",
       "  igraph.Vertex(<igraph.Graph object at 0x7f0a99781540>, 101, {'pullback_set_label': 93, 'partial_cluster_label': -1, 'node_elements': array([64, 98])})]]"
      ]
     },
     "execution_count": 45,
     "metadata": {},
     "output_type": "execute_result"
    }
   ],
   "source": [
    "simplex_list"
   ]
  },
  {
   "cell_type": "code",
   "execution_count": 46,
   "id": "d43e0f20-34fc-40c0-8fef-31bc030a6d15",
   "metadata": {},
   "outputs": [],
   "source": [
    "from itertools import combinations, compress\n",
    "from functools import reduce\n",
    "from operator import iconcat"
   ]
  },
  {
   "cell_type": "code",
   "execution_count": null,
   "id": "1452cbb7-aced-451c-91b1-20281cf222c5",
   "metadata": {},
   "outputs": [],
   "source": [
    "def find_2simplices(graph, intersection_data = False):\n",
    "    node_triples = graph.list_triangles()\n",
    "    num_triples = len(node_triples)\n",
    "    simplex_list = [None] * num_triples\n",
    "    simplex_mask = [False] * num_triples\n",
    "    intersections = np.zeros(num_triples)\n",
    "    for i, triple in enumerate(node_triples):\n",
    "        intersection = reduce(np.interesect1d, \n",
    "                              (graph.vs[triple[0]],\n",
    "                               graph.vs[triple[1]],\n",
    "                               graph.vs[triple[2]]\n",
    "                              )\n",
    "                             )\n",
    "        if len(intersection) > 0:\n",
    "            simplex_mask[i] = True\n",
    "            simplex_list[i] = triple\n",
    "            if intersection_data:\n",
    "                intersections[i] = len(intersection)\n",
    "        simplex_list = list(compress(simplex_list, sim\u0000s\u0000s\u0000(\u0000s\u0000)\n",
    "        if intersection_data:\n",
    "        nonzero_intersections = intersections[intersections > 0]"
   ]
  }
 ],
 "metadata": {
  "kernelspec": {
   "display_name": "TDA",
   "language": "python",
   "name": "tda"
  },
  "language_info": {
   "codemirror_mode": {
    "name": "ipython",
    "version": 3
   },
   "file_extension": ".py",
   "mimetype": "text/x-python",
   "name": "python",
   "nbconvert_exporter": "python",
   "pygments_lexer": "ipython3",
   "version": "3.10.12"
  }
 },
 "nbformat": 4,
 "nbformat_minor": 5
}
