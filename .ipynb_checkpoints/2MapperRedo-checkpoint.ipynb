{
 "cells": [
  {
   "cell_type": "code",
   "execution_count": 2,
   "id": "2e2596d1-50c0-4af0-961b-c69855e5c75f",
   "metadata": {},
   "outputs": [],
   "source": [
    "import numpy as np\n",
    "import pandas as pd\n",
    "import Surfaces\n",
    "from Giotto2Mapper import two_dim_nerve, two_mapper\n",
    "import plotly.graph_objects as go\n",
    "import plotly\n",
    "import igraph"
   ]
  },
  {
   "cell_type": "code",
   "execution_count": 3,
   "id": "d7dac9af-2346-4969-a77f-c32b6f46778c",
   "metadata": {},
   "outputs": [],
   "source": [
    "from gtda.mapper import (\n",
    "    CubicalCover,\n",
    "    make_mapper_pipeline,\n",
    "    Projection,\n",
    "    plot_static_mapper_graph,\n",
    "    plot_interactive_mapper_graph,\n",
    "    MapperInteractivePlotter,\n",
    "    nerve,\n",
    "    FirstHistogramGap\n",
    ")\n",
    "from sklearn.cluster import DBSCAN\n",
    "from sklearn.decomposition import PCA\n",
    "from functools import reduce\n",
    "from LatticeCover import LatticeCover"
   ]
  },
  {
   "cell_type": "code",
   "execution_count": 4,
   "id": "6e46f5d3-2a90-4bdd-a8bb-092e2f45f895",
   "metadata": {},
   "outputs": [],
   "source": [
    "data = Surfaces.sample_torus(100)\n",
    "pipe = make_mapper_pipeline(\n",
    "    filter_func = Projection(columns = [0,1,2]),\n",
    "    cover = LatticeCover(),\n",
    "    clusterer = DBSCAN(),\n",
    "    verbose = True,\n",
    "    store_edge_elements = True\n",
    ")\n",
    "filter = Projection(columns = [0,1])\n",
    "cover = LatticeCover()"
   ]
  },
  {
   "cell_type": "code",
   "execution_count": 4,
   "id": "7886d09a-88e9-4ca2-94ba-07fe5abdae05",
   "metadata": {},
   "outputs": [
    {
     "data": {
      "text/plain": [
       "(100, 2)"
      ]
     },
     "execution_count": 4,
     "metadata": {},
     "output_type": "execute_result"
    }
   ],
   "source": [
    "fit_data = filter.fit_transform(data)\n",
    "fit_data.shape"
   ]
  },
  {
   "cell_type": "code",
   "execution_count": 5,
   "id": "ad60114b-a2f1-4365-bfe7-a1539d22fdb1",
   "metadata": {},
   "outputs": [
    {
     "data": {
      "text/plain": [
       "(100, 82)"
      ]
     },
     "execution_count": 5,
     "metadata": {},
     "output_type": "execute_result"
    }
   ],
   "source": [
    "cov_data = cover.fit_transform(fit_data)\n",
    "cov_data.shape"
   ]
  },
  {
   "cell_type": "code",
   "execution_count": 6,
   "id": "28a56858-42a6-4053-85dd-a1a42c5ff797",
   "metadata": {},
   "outputs": [
    {
     "data": {
      "text/plain": [
       "True"
      ]
     },
     "execution_count": 6,
     "metadata": {},
     "output_type": "execute_result"
    }
   ],
   "source": [
    "len(fit_data) == len(cov_data)"
   ]
  },
  {
   "cell_type": "code",
   "execution_count": 11,
   "id": "923b5446-678f-42c8-9d30-5a7d4ffbd753",
   "metadata": {},
   "outputs": [
    {
     "name": "stdout",
     "output_type": "stream",
     "text": [
      "[Pipeline] ............ (step 1 of 3) Processing scaler, total=   0.0s\n",
      "[Pipeline] ....... (step 2 of 3) Processing filter_func, total=   0.0s\n",
      "[Pipeline] ............. (step 3 of 3) Processing cover, total=   0.2s\n",
      "[Pipeline] .... (step 1 of 3) Processing pullback_cover, total=   0.2s\n",
      "[Pipeline] ........ (step 2 of 3) Processing clustering, total=   0.4s\n",
      "[Pipeline] ............. (step 3 of 3) Processing nerve, total=   0.1s\n"
     ]
    }
   ],
   "source": [
    "graph = pipe.fit_transform(data)"
   ]
  },
  {
   "cell_type": "code",
   "execution_count": 8,
   "id": "98b71127-b477-40df-9323-eb8e917daafa",
   "metadata": {},
   "outputs": [
    {
     "data": {
      "text/plain": [
       "65"
      ]
     },
     "execution_count": 8,
     "metadata": {},
     "output_type": "execute_result"
    }
   ],
   "source": [
    "len(graph.list_triangles())"
   ]
  },
  {
   "cell_type": "code",
   "execution_count": 9,
   "id": "4e47ebbf-220d-4b05-a283-891bb16d8f46",
   "metadata": {},
   "outputs": [],
   "source": [
    "simplex_list = Giotto2Mapper.two_dim_nerve(graph)"
   ]
  },
  {
   "cell_type": "code",
   "execution_count": 10,
   "id": "c972068d-6030-402e-bf7f-d4113f97b799",
   "metadata": {
    "scrolled": true
   },
   "outputs": [
    {
     "data": {
      "text/plain": [
       "[[igraph.Vertex(<igraph.Graph object at 0x7f53957e3940>, 1, {'pullback_set_label': 57, 'partial_cluster_label': -1, 'node_elements': array([1])}),\n",
       "  igraph.Vertex(<igraph.Graph object at 0x7f53957e3940>, 2, {'pullback_set_label': 58, 'partial_cluster_label': -1, 'node_elements': array([ 1, 12])}),\n",
       "  igraph.Vertex(<igraph.Graph object at 0x7f53957e3940>, 3, {'pullback_set_label': 65, 'partial_cluster_label': -1, 'node_elements': array([ 1, 25])})],\n",
       " [igraph.Vertex(<igraph.Graph object at 0x7f53957e3940>, 4, {'pullback_set_label': 34, 'partial_cluster_label': -1, 'node_elements': array([2])}),\n",
       "  igraph.Vertex(<igraph.Graph object at 0x7f53957e3940>, 5, {'pullback_set_label': 45, 'partial_cluster_label': -1, 'node_elements': array([ 2, 65])}),\n",
       "  igraph.Vertex(<igraph.Graph object at 0x7f53957e3940>, 6, {'pullback_set_label': 47, 'partial_cluster_label': -1, 'node_elements': array([2, 4])})],\n",
       " [igraph.Vertex(<igraph.Graph object at 0x7f53957e3940>, 6, {'pullback_set_label': 47, 'partial_cluster_label': -1, 'node_elements': array([2, 4])}),\n",
       "  igraph.Vertex(<igraph.Graph object at 0x7f53957e3940>, 8, {'pullback_set_label': 35, 'partial_cluster_label': -1, 'node_elements': array([ 4, 19])}),\n",
       "  igraph.Vertex(<igraph.Graph object at 0x7f53957e3940>, 9, {'pullback_set_label': 48, 'partial_cluster_label': -1, 'node_elements': array([ 4, 19, 92])})],\n",
       " [igraph.Vertex(<igraph.Graph object at 0x7f53957e3940>, 8, {'pullback_set_label': 35, 'partial_cluster_label': -1, 'node_elements': array([ 4, 19])}),\n",
       "  igraph.Vertex(<igraph.Graph object at 0x7f53957e3940>, 9, {'pullback_set_label': 48, 'partial_cluster_label': -1, 'node_elements': array([ 4, 19, 92])}),\n",
       "  igraph.Vertex(<igraph.Graph object at 0x7f53957e3940>, 39, {'pullback_set_label': 39, 'partial_cluster_label': -1, 'node_elements': array([19])})],\n",
       " [igraph.Vertex(<igraph.Graph object at 0x7f53957e3940>, 11, {'pullback_set_label': 81, 'partial_cluster_label': -1, 'node_elements': array([6])}),\n",
       "  igraph.Vertex(<igraph.Graph object at 0x7f53957e3940>, 12, {'pullback_set_label': 91, 'partial_cluster_label': -1, 'node_elements': array([ 6, 20, 37, 52])}),\n",
       "  igraph.Vertex(<igraph.Graph object at 0x7f53957e3940>, 13, {'pullback_set_label': 92, 'partial_cluster_label': -1, 'node_elements': array([ 6, 20, 52])})],\n",
       " [igraph.Vertex(<igraph.Graph object at 0x7f53957e3940>, 12, {'pullback_set_label': 91, 'partial_cluster_label': -1, 'node_elements': array([ 6, 20, 37, 52])}),\n",
       "  igraph.Vertex(<igraph.Graph object at 0x7f53957e3940>, 13, {'pullback_set_label': 92, 'partial_cluster_label': -1, 'node_elements': array([ 6, 20, 52])}),\n",
       "  igraph.Vertex(<igraph.Graph object at 0x7f53957e3940>, 40, {'pullback_set_label': 90, 'partial_cluster_label': -1, 'node_elements': array([20, 37, 52, 61])})],\n",
       " [igraph.Vertex(<igraph.Graph object at 0x7f53957e3940>, 12, {'pullback_set_label': 91, 'partial_cluster_label': -1, 'node_elements': array([ 6, 20, 37, 52])}),\n",
       "  igraph.Vertex(<igraph.Graph object at 0x7f53957e3940>, 13, {'pullback_set_label': 92, 'partial_cluster_label': -1, 'node_elements': array([ 6, 20, 52])}),\n",
       "  igraph.Vertex(<igraph.Graph object at 0x7f53957e3940>, 41, {'pullback_set_label': 101, 'partial_cluster_label': -1, 'node_elements': array([20, 52, 83])})],\n",
       " [igraph.Vertex(<igraph.Graph object at 0x7f53957e3940>, 12, {'pullback_set_label': 91, 'partial_cluster_label': -1, 'node_elements': array([ 6, 20, 37, 52])}),\n",
       "  igraph.Vertex(<igraph.Graph object at 0x7f53957e3940>, 13, {'pullback_set_label': 92, 'partial_cluster_label': -1, 'node_elements': array([ 6, 20, 52])}),\n",
       "  igraph.Vertex(<igraph.Graph object at 0x7f53957e3940>, 86, {'pullback_set_label': 103, 'partial_cluster_label': -1, 'node_elements': array([52])})],\n",
       " [igraph.Vertex(<igraph.Graph object at 0x7f53957e3940>, 12, {'pullback_set_label': 91, 'partial_cluster_label': -1, 'node_elements': array([ 6, 20, 37, 52])}),\n",
       "  igraph.Vertex(<igraph.Graph object at 0x7f53957e3940>, 40, {'pullback_set_label': 90, 'partial_cluster_label': -1, 'node_elements': array([20, 37, 52, 61])}),\n",
       "  igraph.Vertex(<igraph.Graph object at 0x7f53957e3940>, 41, {'pullback_set_label': 101, 'partial_cluster_label': -1, 'node_elements': array([20, 52, 83])})],\n",
       " [igraph.Vertex(<igraph.Graph object at 0x7f53957e3940>, 12, {'pullback_set_label': 91, 'partial_cluster_label': -1, 'node_elements': array([ 6, 20, 37, 52])}),\n",
       "  igraph.Vertex(<igraph.Graph object at 0x7f53957e3940>, 40, {'pullback_set_label': 90, 'partial_cluster_label': -1, 'node_elements': array([20, 37, 52, 61])}),\n",
       "  igraph.Vertex(<igraph.Graph object at 0x7f53957e3940>, 71, {'pullback_set_label': 89, 'partial_cluster_label': -1, 'node_elements': array([37, 44, 61, 76])})],\n",
       " [igraph.Vertex(<igraph.Graph object at 0x7f53957e3940>, 12, {'pullback_set_label': 91, 'partial_cluster_label': -1, 'node_elements': array([ 6, 20, 37, 52])}),\n",
       "  igraph.Vertex(<igraph.Graph object at 0x7f53957e3940>, 40, {'pullback_set_label': 90, 'partial_cluster_label': -1, 'node_elements': array([20, 37, 52, 61])}),\n",
       "  igraph.Vertex(<igraph.Graph object at 0x7f53957e3940>, 72, {'pullback_set_label': 100, 'partial_cluster_label': -1, 'node_elements': array([37, 41, 83])})],\n",
       " [igraph.Vertex(<igraph.Graph object at 0x7f53957e3940>, 12, {'pullback_set_label': 91, 'partial_cluster_label': -1, 'node_elements': array([ 6, 20, 37, 52])}),\n",
       "  igraph.Vertex(<igraph.Graph object at 0x7f53957e3940>, 40, {'pullback_set_label': 90, 'partial_cluster_label': -1, 'node_elements': array([20, 37, 52, 61])}),\n",
       "  igraph.Vertex(<igraph.Graph object at 0x7f53957e3940>, 86, {'pullback_set_label': 103, 'partial_cluster_label': -1, 'node_elements': array([52])})],\n",
       " [igraph.Vertex(<igraph.Graph object at 0x7f53957e3940>, 12, {'pullback_set_label': 91, 'partial_cluster_label': -1, 'node_elements': array([ 6, 20, 37, 52])}),\n",
       "  igraph.Vertex(<igraph.Graph object at 0x7f53957e3940>, 41, {'pullback_set_label': 101, 'partial_cluster_label': -1, 'node_elements': array([20, 52, 83])}),\n",
       "  igraph.Vertex(<igraph.Graph object at 0x7f53957e3940>, 86, {'pullback_set_label': 103, 'partial_cluster_label': -1, 'node_elements': array([52])})],\n",
       " [igraph.Vertex(<igraph.Graph object at 0x7f53957e3940>, 12, {'pullback_set_label': 91, 'partial_cluster_label': -1, 'node_elements': array([ 6, 20, 37, 52])}),\n",
       "  igraph.Vertex(<igraph.Graph object at 0x7f53957e3940>, 71, {'pullback_set_label': 89, 'partial_cluster_label': -1, 'node_elements': array([37, 44, 61, 76])}),\n",
       "  igraph.Vertex(<igraph.Graph object at 0x7f53957e3940>, 72, {'pullback_set_label': 100, 'partial_cluster_label': -1, 'node_elements': array([37, 41, 83])})],\n",
       " [igraph.Vertex(<igraph.Graph object at 0x7f53957e3940>, 13, {'pullback_set_label': 92, 'partial_cluster_label': -1, 'node_elements': array([ 6, 20, 52])}),\n",
       "  igraph.Vertex(<igraph.Graph object at 0x7f53957e3940>, 40, {'pullback_set_label': 90, 'partial_cluster_label': -1, 'node_elements': array([20, 37, 52, 61])}),\n",
       "  igraph.Vertex(<igraph.Graph object at 0x7f53957e3940>, 41, {'pullback_set_label': 101, 'partial_cluster_label': -1, 'node_elements': array([20, 52, 83])})],\n",
       " [igraph.Vertex(<igraph.Graph object at 0x7f53957e3940>, 13, {'pullback_set_label': 92, 'partial_cluster_label': -1, 'node_elements': array([ 6, 20, 52])}),\n",
       "  igraph.Vertex(<igraph.Graph object at 0x7f53957e3940>, 40, {'pullback_set_label': 90, 'partial_cluster_label': -1, 'node_elements': array([20, 37, 52, 61])}),\n",
       "  igraph.Vertex(<igraph.Graph object at 0x7f53957e3940>, 86, {'pullback_set_label': 103, 'partial_cluster_label': -1, 'node_elements': array([52])})],\n",
       " [igraph.Vertex(<igraph.Graph object at 0x7f53957e3940>, 13, {'pullback_set_label': 92, 'partial_cluster_label': -1, 'node_elements': array([ 6, 20, 52])}),\n",
       "  igraph.Vertex(<igraph.Graph object at 0x7f53957e3940>, 41, {'pullback_set_label': 101, 'partial_cluster_label': -1, 'node_elements': array([20, 52, 83])}),\n",
       "  igraph.Vertex(<igraph.Graph object at 0x7f53957e3940>, 86, {'pullback_set_label': 103, 'partial_cluster_label': -1, 'node_elements': array([52])})],\n",
       " [igraph.Vertex(<igraph.Graph object at 0x7f53957e3940>, 14, {'pullback_set_label': 86, 'partial_cluster_label': -1, 'node_elements': array([ 7, 75])}),\n",
       "  igraph.Vertex(<igraph.Graph object at 0x7f53957e3940>, 15, {'pullback_set_label': 87, 'partial_cluster_label': -1, 'node_elements': array([ 7, 44, 82])}),\n",
       "  igraph.Vertex(<igraph.Graph object at 0x7f53957e3940>, 16, {'pullback_set_label': 88, 'partial_cluster_label': -1, 'node_elements': array([ 7, 44, 76])})],\n",
       " [igraph.Vertex(<igraph.Graph object at 0x7f53957e3940>, 14, {'pullback_set_label': 86, 'partial_cluster_label': -1, 'node_elements': array([ 7, 75])}),\n",
       "  igraph.Vertex(<igraph.Graph object at 0x7f53957e3940>, 92, {'pullback_set_label': 95, 'partial_cluster_label': -1, 'node_elements': array([56, 75, 80, 96])}),\n",
       "  igraph.Vertex(<igraph.Graph object at 0x7f53957e3940>, 110, {'pullback_set_label': 96, 'partial_cluster_label': -1, 'node_elements': array([75, 80, 96])})],\n",
       " [igraph.Vertex(<igraph.Graph object at 0x7f53957e3940>, 15, {'pullback_set_label': 87, 'partial_cluster_label': -1, 'node_elements': array([ 7, 44, 82])}),\n",
       "  igraph.Vertex(<igraph.Graph object at 0x7f53957e3940>, 16, {'pullback_set_label': 88, 'partial_cluster_label': -1, 'node_elements': array([ 7, 44, 76])}),\n",
       "  igraph.Vertex(<igraph.Graph object at 0x7f53957e3940>, 71, {'pullback_set_label': 89, 'partial_cluster_label': -1, 'node_elements': array([37, 44, 61, 76])})],\n",
       " [igraph.Vertex(<igraph.Graph object at 0x7f53957e3940>, 15, {'pullback_set_label': 87, 'partial_cluster_label': -1, 'node_elements': array([ 7, 44, 82])}),\n",
       "  igraph.Vertex(<igraph.Graph object at 0x7f53957e3940>, 16, {'pullback_set_label': 88, 'partial_cluster_label': -1, 'node_elements': array([ 7, 44, 76])}),\n",
       "  igraph.Vertex(<igraph.Graph object at 0x7f53957e3940>, 79, {'pullback_set_label': 99, 'partial_cluster_label': -1, 'node_elements': array([44, 82])})],\n",
       " [igraph.Vertex(<igraph.Graph object at 0x7f53957e3940>, 15, {'pullback_set_label': 87, 'partial_cluster_label': -1, 'node_elements': array([ 7, 44, 82])}),\n",
       "  igraph.Vertex(<igraph.Graph object at 0x7f53957e3940>, 71, {'pullback_set_label': 89, 'partial_cluster_label': -1, 'node_elements': array([37, 44, 61, 76])}),\n",
       "  igraph.Vertex(<igraph.Graph object at 0x7f53957e3940>, 79, {'pullback_set_label': 99, 'partial_cluster_label': -1, 'node_elements': array([44, 82])})],\n",
       " [igraph.Vertex(<igraph.Graph object at 0x7f53957e3940>, 16, {'pullback_set_label': 88, 'partial_cluster_label': -1, 'node_elements': array([ 7, 44, 76])}),\n",
       "  igraph.Vertex(<igraph.Graph object at 0x7f53957e3940>, 71, {'pullback_set_label': 89, 'partial_cluster_label': -1, 'node_elements': array([37, 44, 61, 76])}),\n",
       "  igraph.Vertex(<igraph.Graph object at 0x7f53957e3940>, 79, {'pullback_set_label': 99, 'partial_cluster_label': -1, 'node_elements': array([44, 82])})],\n",
       " [igraph.Vertex(<igraph.Graph object at 0x7f53957e3940>, 16, {'pullback_set_label': 88, 'partial_cluster_label': -1, 'node_elements': array([ 7, 44, 76])}),\n",
       "  igraph.Vertex(<igraph.Graph object at 0x7f53957e3940>, 71, {'pullback_set_label': 89, 'partial_cluster_label': -1, 'node_elements': array([37, 44, 61, 76])}),\n",
       "  igraph.Vertex(<igraph.Graph object at 0x7f53957e3940>, 111, {'pullback_set_label': 80, 'partial_cluster_label': -1, 'node_elements': array([76])})],\n",
       " [igraph.Vertex(<igraph.Graph object at 0x7f53957e3940>, 17, {'pullback_set_label': 23, 'partial_cluster_label': -1, 'node_elements': array([ 8, 17, 18])}),\n",
       "  igraph.Vertex(<igraph.Graph object at 0x7f53957e3940>, 37, {'pullback_set_label': 14, 'partial_cluster_label': -1, 'node_elements': array([18])}),\n",
       "  igraph.Vertex(<igraph.Graph object at 0x7f53957e3940>, 38, {'pullback_set_label': 22, 'partial_cluster_label': -1, 'node_elements': array([18, 90])})],\n",
       " [igraph.Vertex(<igraph.Graph object at 0x7f53957e3940>, 19, {'pullback_set_label': 121, 'partial_cluster_label': -1, 'node_elements': array([ 9, 27, 42, 43, 98])}),\n",
       "  igraph.Vertex(<igraph.Graph object at 0x7f53957e3940>, 20, {'pullback_set_label': 122, 'partial_cluster_label': -1, 'node_elements': array([ 9, 42, 93])}),\n",
       "  igraph.Vertex(<igraph.Graph object at 0x7f53957e3940>, 21, {'pullback_set_label': 126, 'partial_cluster_label': -1, 'node_elements': array([9])})],\n",
       " [igraph.Vertex(<igraph.Graph object at 0x7f53957e3940>, 19, {'pullback_set_label': 121, 'partial_cluster_label': -1, 'node_elements': array([ 9, 27, 42, 43, 98])}),\n",
       "  igraph.Vertex(<igraph.Graph object at 0x7f53957e3940>, 20, {'pullback_set_label': 122, 'partial_cluster_label': -1, 'node_elements': array([ 9, 42, 93])}),\n",
       "  igraph.Vertex(<igraph.Graph object at 0x7f53957e3940>, 50, {'pullback_set_label': 110, 'partial_cluster_label': -1, 'node_elements': array([27, 42])})],\n",
       " [igraph.Vertex(<igraph.Graph object at 0x7f53957e3940>, 20, {'pullback_set_label': 122, 'partial_cluster_label': -1, 'node_elements': array([ 9, 42, 93])}),\n",
       "  igraph.Vertex(<igraph.Graph object at 0x7f53957e3940>, 70, {'pullback_set_label': 107, 'partial_cluster_label': -1, 'node_elements': array([36, 38, 93])}),\n",
       "  igraph.Vertex(<igraph.Graph object at 0x7f53957e3940>, 74, {'pullback_set_label': 108, 'partial_cluster_label': -1, 'node_elements': array([38, 93])})],\n",
       " [igraph.Vertex(<igraph.Graph object at 0x7f53957e3940>, 22, {'pullback_set_label': 16, 'partial_cluster_label': -1, 'node_elements': array([10, 13])}),\n",
       "  igraph.Vertex(<igraph.Graph object at 0x7f53957e3940>, 23, {'pullback_set_label': 17, 'partial_cluster_label': -1, 'node_elements': array([10])}),\n",
       "  igraph.Vertex(<igraph.Graph object at 0x7f53957e3940>, 24, {'pullback_set_label': 26, 'partial_cluster_label': -1, 'node_elements': array([10, 13, 70])})],\n",
       " [igraph.Vertex(<igraph.Graph object at 0x7f53957e3940>, 22, {'pullback_set_label': 16, 'partial_cluster_label': -1, 'node_elements': array([10, 13])}),\n",
       "  igraph.Vertex(<igraph.Graph object at 0x7f53957e3940>, 24, {'pullback_set_label': 26, 'partial_cluster_label': -1, 'node_elements': array([10, 13, 70])}),\n",
       "  igraph.Vertex(<igraph.Graph object at 0x7f53957e3940>, 28, {'pullback_set_label': 25, 'partial_cluster_label': -1, 'node_elements': array([13])})],\n",
       " [igraph.Vertex(<igraph.Graph object at 0x7f53957e3940>, 24, {'pullback_set_label': 26, 'partial_cluster_label': -1, 'node_elements': array([10, 13, 70])}),\n",
       "  igraph.Vertex(<igraph.Graph object at 0x7f53957e3940>, 55, {'pullback_set_label': 36, 'partial_cluster_label': -1, 'node_elements': array([30, 67, 70])}),\n",
       "  igraph.Vertex(<igraph.Graph object at 0x7f53957e3940>, 107, {'pullback_set_label': 37, 'partial_cluster_label': -1, 'node_elements': array([70])})],\n",
       " [igraph.Vertex(<igraph.Graph object at 0x7f53957e3940>, 25, {'pullback_set_label': 15, 'partial_cluster_label': -1, 'node_elements': array([11, 77])}),\n",
       "  igraph.Vertex(<igraph.Graph object at 0x7f53957e3940>, 112, {'pullback_set_label': 8, 'partial_cluster_label': -1, 'node_elements': array([77])}),\n",
       "  igraph.Vertex(<igraph.Graph object at 0x7f53957e3940>, 113, {'pullback_set_label': 9, 'partial_cluster_label': -1, 'node_elements': array([77, 87])})],\n",
       " [igraph.Vertex(<igraph.Graph object at 0x7f53957e3940>, 26, {'pullback_set_label': 27, 'partial_cluster_label': -1, 'node_elements': array([11, 45])}),\n",
       "  igraph.Vertex(<igraph.Graph object at 0x7f53957e3940>, 76, {'pullback_set_label': 29, 'partial_cluster_label': -1, 'node_elements': array([40, 45])}),\n",
       "  igraph.Vertex(<igraph.Graph object at 0x7f53957e3940>, 80, {'pullback_set_label': 18, 'partial_cluster_label': -1, 'node_elements': array([45])})],\n",
       " [igraph.Vertex(<igraph.Graph object at 0x7f53957e3940>, 30, {'pullback_set_label': 38, 'partial_cluster_label': -1, 'node_elements': array([15, 97])}),\n",
       "  igraph.Vertex(<igraph.Graph object at 0x7f53957e3940>, 31, {'pullback_set_label': 40, 'partial_cluster_label': -1, 'node_elements': array([15, 22])}),\n",
       "  igraph.Vertex(<igraph.Graph object at 0x7f53957e3940>, 32, {'pullback_set_label': 41, 'partial_cluster_label': -1, 'node_elements': array([15, 48])})],\n",
       " [igraph.Vertex(<igraph.Graph object at 0x7f53957e3940>, 33, {'pullback_set_label': 31, 'partial_cluster_label': -1, 'node_elements': array([16, 71])}),\n",
       "  igraph.Vertex(<igraph.Graph object at 0x7f53957e3940>, 34, {'pullback_set_label': 32, 'partial_cluster_label': -1, 'node_elements': array([16])}),\n",
       "  igraph.Vertex(<igraph.Graph object at 0x7f53957e3940>, 35, {'pullback_set_label': 44, 'partial_cluster_label': -1, 'node_elements': array([16, 71, 78])})],\n",
       " [igraph.Vertex(<igraph.Graph object at 0x7f53957e3940>, 33, {'pullback_set_label': 31, 'partial_cluster_label': -1, 'node_elements': array([16, 71])}),\n",
       "  igraph.Vertex(<igraph.Graph object at 0x7f53957e3940>, 35, {'pullback_set_label': 44, 'partial_cluster_label': -1, 'node_elements': array([16, 71, 78])}),\n",
       "  igraph.Vertex(<igraph.Graph object at 0x7f53957e3940>, 108, {'pullback_set_label': 43, 'partial_cluster_label': -1, 'node_elements': array([71, 78])})],\n",
       " [igraph.Vertex(<igraph.Graph object at 0x7f53957e3940>, 35, {'pullback_set_label': 44, 'partial_cluster_label': -1, 'node_elements': array([16, 71, 78])}),\n",
       "  igraph.Vertex(<igraph.Graph object at 0x7f53957e3940>, 102, {'pullback_set_label': 52, 'partial_cluster_label': -1, 'node_elements': array([64, 68, 69, 78])}),\n",
       "  igraph.Vertex(<igraph.Graph object at 0x7f53957e3940>, 108, {'pullback_set_label': 43, 'partial_cluster_label': -1, 'node_elements': array([71, 78])})],\n",
       " [igraph.Vertex(<igraph.Graph object at 0x7f53957e3940>, 38, {'pullback_set_label': 22, 'partial_cluster_label': -1, 'node_elements': array([18, 90])}),\n",
       "  igraph.Vertex(<igraph.Graph object at 0x7f53957e3940>, 121, {'pullback_set_label': 20, 'partial_cluster_label': -1, 'node_elements': array([90, 95])}),\n",
       "  igraph.Vertex(<igraph.Graph object at 0x7f53957e3940>, 122, {'pullback_set_label': 21, 'partial_cluster_label': -1, 'node_elements': array([90])})],\n",
       " [igraph.Vertex(<igraph.Graph object at 0x7f53957e3940>, 40, {'pullback_set_label': 90, 'partial_cluster_label': -1, 'node_elements': array([20, 37, 52, 61])}),\n",
       "  igraph.Vertex(<igraph.Graph object at 0x7f53957e3940>, 41, {'pullback_set_label': 101, 'partial_cluster_label': -1, 'node_elements': array([20, 52, 83])}),\n",
       "  igraph.Vertex(<igraph.Graph object at 0x7f53957e3940>, 86, {'pullback_set_label': 103, 'partial_cluster_label': -1, 'node_elements': array([52])})],\n",
       " [igraph.Vertex(<igraph.Graph object at 0x7f53957e3940>, 40, {'pullback_set_label': 90, 'partial_cluster_label': -1, 'node_elements': array([20, 37, 52, 61])}),\n",
       "  igraph.Vertex(<igraph.Graph object at 0x7f53957e3940>, 71, {'pullback_set_label': 89, 'partial_cluster_label': -1, 'node_elements': array([37, 44, 61, 76])}),\n",
       "  igraph.Vertex(<igraph.Graph object at 0x7f53957e3940>, 72, {'pullback_set_label': 100, 'partial_cluster_label': -1, 'node_elements': array([37, 41, 83])})],\n",
       " [igraph.Vertex(<igraph.Graph object at 0x7f53957e3940>, 43, {'pullback_set_label': 28, 'partial_cluster_label': -1, 'node_elements': array([21, 47])}),\n",
       "  igraph.Vertex(<igraph.Graph object at 0x7f53957e3940>, 51, {'pullback_set_label': 42, 'partial_cluster_label': -1, 'node_elements': array([28, 47])}),\n",
       "  igraph.Vertex(<igraph.Graph object at 0x7f53957e3940>, 81, {'pullback_set_label': 30, 'partial_cluster_label': -1, 'node_elements': array([47])})],\n",
       " [igraph.Vertex(<igraph.Graph object at 0x7f53957e3940>, 45, {'pullback_set_label': 66, 'partial_cluster_label': -1, 'node_elements': array([24, 46])}),\n",
       "  igraph.Vertex(<igraph.Graph object at 0x7f53957e3940>, 46, {'pullback_set_label': 67, 'partial_cluster_label': -1, 'node_elements': array([24, 46, 86])}),\n",
       "  igraph.Vertex(<igraph.Graph object at 0x7f53957e3940>, 47, {'pullback_set_label': 75, 'partial_cluster_label': -1, 'node_elements': array([24, 86])})],\n",
       " [igraph.Vertex(<igraph.Graph object at 0x7f53957e3940>, 45, {'pullback_set_label': 66, 'partial_cluster_label': -1, 'node_elements': array([24, 46])}),\n",
       "  igraph.Vertex(<igraph.Graph object at 0x7f53957e3940>, 46, {'pullback_set_label': 67, 'partial_cluster_label': -1, 'node_elements': array([24, 46, 86])}),\n",
       "  igraph.Vertex(<igraph.Graph object at 0x7f53957e3940>, 48, {'pullback_set_label': 64, 'partial_cluster_label': -1, 'node_elements': array([25, 46])})],\n",
       " [igraph.Vertex(<igraph.Graph object at 0x7f53957e3940>, 54, {'pullback_set_label': 116, 'partial_cluster_label': -1, 'node_elements': array([29, 32, 49])}),\n",
       "  igraph.Vertex(<igraph.Graph object at 0x7f53957e3940>, 59, {'pullback_set_label': 105, 'partial_cluster_label': -1, 'node_elements': array([32, 33])}),\n",
       "  igraph.Vertex(<igraph.Graph object at 0x7f53957e3940>, 60, {'pullback_set_label': 118, 'partial_cluster_label': -1, 'node_elements': array([32, 49])})],\n",
       " [igraph.Vertex(<igraph.Graph object at 0x7f53957e3940>, 54, {'pullback_set_label': 116, 'partial_cluster_label': -1, 'node_elements': array([29, 32, 49])}),\n",
       "  igraph.Vertex(<igraph.Graph object at 0x7f53957e3940>, 59, {'pullback_set_label': 105, 'partial_cluster_label': -1, 'node_elements': array([32, 33])}),\n",
       "  igraph.Vertex(<igraph.Graph object at 0x7f53957e3940>, 61, {'pullback_set_label': 119, 'partial_cluster_label': -1, 'node_elements': array([32, 33, 49])})],\n",
       " [igraph.Vertex(<igraph.Graph object at 0x7f53957e3940>, 54, {'pullback_set_label': 116, 'partial_cluster_label': -1, 'node_elements': array([29, 32, 49])}),\n",
       "  igraph.Vertex(<igraph.Graph object at 0x7f53957e3940>, 60, {'pullback_set_label': 118, 'partial_cluster_label': -1, 'node_elements': array([32, 49])}),\n",
       "  igraph.Vertex(<igraph.Graph object at 0x7f53957e3940>, 61, {'pullback_set_label': 119, 'partial_cluster_label': -1, 'node_elements': array([32, 33, 49])})],\n",
       " [igraph.Vertex(<igraph.Graph object at 0x7f53957e3940>, 54, {'pullback_set_label': 116, 'partial_cluster_label': -1, 'node_elements': array([29, 32, 49])}),\n",
       "  igraph.Vertex(<igraph.Graph object at 0x7f53957e3940>, 60, {'pullback_set_label': 118, 'partial_cluster_label': -1, 'node_elements': array([32, 49])}),\n",
       "  igraph.Vertex(<igraph.Graph object at 0x7f53957e3940>, 83, {'pullback_set_label': 123, 'partial_cluster_label': -1, 'node_elements': array([49])})],\n",
       " [igraph.Vertex(<igraph.Graph object at 0x7f53957e3940>, 54, {'pullback_set_label': 116, 'partial_cluster_label': -1, 'node_elements': array([29, 32, 49])}),\n",
       "  igraph.Vertex(<igraph.Graph object at 0x7f53957e3940>, 61, {'pullback_set_label': 119, 'partial_cluster_label': -1, 'node_elements': array([32, 33, 49])}),\n",
       "  igraph.Vertex(<igraph.Graph object at 0x7f53957e3940>, 83, {'pullback_set_label': 123, 'partial_cluster_label': -1, 'node_elements': array([49])})],\n",
       " [igraph.Vertex(<igraph.Graph object at 0x7f53957e3940>, 55, {'pullback_set_label': 36, 'partial_cluster_label': -1, 'node_elements': array([30, 67, 70])}),\n",
       "  igraph.Vertex(<igraph.Graph object at 0x7f53957e3940>, 56, {'pullback_set_label': 49, 'partial_cluster_label': -1, 'node_elements': array([30, 67])}),\n",
       "  igraph.Vertex(<igraph.Graph object at 0x7f53957e3940>, 105, {'pullback_set_label': 46, 'partial_cluster_label': -1, 'node_elements': array([67])})],\n",
       " [igraph.Vertex(<igraph.Graph object at 0x7f53957e3940>, 59, {'pullback_set_label': 105, 'partial_cluster_label': -1, 'node_elements': array([32, 33])}),\n",
       "  igraph.Vertex(<igraph.Graph object at 0x7f53957e3940>, 60, {'pullback_set_label': 118, 'partial_cluster_label': -1, 'node_elements': array([32, 49])}),\n",
       "  igraph.Vertex(<igraph.Graph object at 0x7f53957e3940>, 61, {'pullback_set_label': 119, 'partial_cluster_label': -1, 'node_elements': array([32, 33, 49])})],\n",
       " [igraph.Vertex(<igraph.Graph object at 0x7f53957e3940>, 59, {'pullback_set_label': 105, 'partial_cluster_label': -1, 'node_elements': array([32, 33])}),\n",
       "  igraph.Vertex(<igraph.Graph object at 0x7f53957e3940>, 61, {'pullback_set_label': 119, 'partial_cluster_label': -1, 'node_elements': array([32, 33, 49])}),\n",
       "  igraph.Vertex(<igraph.Graph object at 0x7f53957e3940>, 62, {'pullback_set_label': 106, 'partial_cluster_label': -1, 'node_elements': array([33, 41])})],\n",
       " [igraph.Vertex(<igraph.Graph object at 0x7f53957e3940>, 59, {'pullback_set_label': 105, 'partial_cluster_label': -1, 'node_elements': array([32, 33])}),\n",
       "  igraph.Vertex(<igraph.Graph object at 0x7f53957e3940>, 61, {'pullback_set_label': 119, 'partial_cluster_label': -1, 'node_elements': array([32, 33, 49])}),\n",
       "  igraph.Vertex(<igraph.Graph object at 0x7f53957e3940>, 63, {'pullback_set_label': 117, 'partial_cluster_label': -1, 'node_elements': array([33])})],\n",
       " [igraph.Vertex(<igraph.Graph object at 0x7f53957e3940>, 59, {'pullback_set_label': 105, 'partial_cluster_label': -1, 'node_elements': array([32, 33])}),\n",
       "  igraph.Vertex(<igraph.Graph object at 0x7f53957e3940>, 62, {'pullback_set_label': 106, 'partial_cluster_label': -1, 'node_elements': array([33, 41])}),\n",
       "  igraph.Vertex(<igraph.Graph object at 0x7f53957e3940>, 63, {'pullback_set_label': 117, 'partial_cluster_label': -1, 'node_elements': array([33])})],\n",
       " [igraph.Vertex(<igraph.Graph object at 0x7f53957e3940>, 60, {'pullback_set_label': 118, 'partial_cluster_label': -1, 'node_elements': array([32, 49])}),\n",
       "  igraph.Vertex(<igraph.Graph object at 0x7f53957e3940>, 61, {'pullback_set_label': 119, 'partial_cluster_label': -1, 'node_elements': array([32, 33, 49])}),\n",
       "  igraph.Vertex(<igraph.Graph object at 0x7f53957e3940>, 83, {'pullback_set_label': 123, 'partial_cluster_label': -1, 'node_elements': array([49])})],\n",
       " [igraph.Vertex(<igraph.Graph object at 0x7f53957e3940>, 61, {'pullback_set_label': 119, 'partial_cluster_label': -1, 'node_elements': array([32, 33, 49])}),\n",
       "  igraph.Vertex(<igraph.Graph object at 0x7f53957e3940>, 62, {'pullback_set_label': 106, 'partial_cluster_label': -1, 'node_elements': array([33, 41])}),\n",
       "  igraph.Vertex(<igraph.Graph object at 0x7f53957e3940>, 63, {'pullback_set_label': 117, 'partial_cluster_label': -1, 'node_elements': array([33])})],\n",
       " [igraph.Vertex(<igraph.Graph object at 0x7f53957e3940>, 62, {'pullback_set_label': 106, 'partial_cluster_label': -1, 'node_elements': array([33, 41])}),\n",
       "  igraph.Vertex(<igraph.Graph object at 0x7f53957e3940>, 72, {'pullback_set_label': 100, 'partial_cluster_label': -1, 'node_elements': array([37, 41, 83])}),\n",
       "  igraph.Vertex(<igraph.Graph object at 0x7f53957e3940>, 77, {'pullback_set_label': 109, 'partial_cluster_label': -1, 'node_elements': array([41])})],\n",
       " [igraph.Vertex(<igraph.Graph object at 0x7f53957e3940>, 64, {'pullback_set_label': 2, 'partial_cluster_label': -1, 'node_elements': array([34, 59])}),\n",
       "  igraph.Vertex(<igraph.Graph object at 0x7f53957e3940>, 65, {'pullback_set_label': 5, 'partial_cluster_label': -1, 'node_elements': array([34])}),\n",
       "  igraph.Vertex(<igraph.Graph object at 0x7f53957e3940>, 66, {'pullback_set_label': 6, 'partial_cluster_label': -1, 'node_elements': array([34, 55, 79])})],\n",
       " [igraph.Vertex(<igraph.Graph object at 0x7f53957e3940>, 70, {'pullback_set_label': 107, 'partial_cluster_label': -1, 'node_elements': array([36, 38, 93])}),\n",
       "  igraph.Vertex(<igraph.Graph object at 0x7f53957e3940>, 73, {'pullback_set_label': 102, 'partial_cluster_label': -1, 'node_elements': array([38, 54])}),\n",
       "  igraph.Vertex(<igraph.Graph object at 0x7f53957e3940>, 74, {'pullback_set_label': 108, 'partial_cluster_label': -1, 'node_elements': array([38, 93])})],\n",
       " [igraph.Vertex(<igraph.Graph object at 0x7f53957e3940>, 89, {'pullback_set_label': 11, 'partial_cluster_label': -1, 'node_elements': array([55, 95])}),\n",
       "  igraph.Vertex(<igraph.Graph object at 0x7f53957e3940>, 121, {'pullback_set_label': 20, 'partial_cluster_label': -1, 'node_elements': array([90, 95])}),\n",
       "  igraph.Vertex(<igraph.Graph object at 0x7f53957e3940>, 125, {'pullback_set_label': 12, 'partial_cluster_label': -1, 'node_elements': array([95])})],\n",
       " [igraph.Vertex(<igraph.Graph object at 0x7f53957e3940>, 90, {'pullback_set_label': 85, 'partial_cluster_label': -1, 'node_elements': array([56, 96])}),\n",
       "  igraph.Vertex(<igraph.Graph object at 0x7f53957e3940>, 91, {'pullback_set_label': 94, 'partial_cluster_label': -1, 'node_elements': array([56, 80])}),\n",
       "  igraph.Vertex(<igraph.Graph object at 0x7f53957e3940>, 92, {'pullback_set_label': 95, 'partial_cluster_label': -1, 'node_elements': array([56, 75, 80, 96])})],\n",
       " [igraph.Vertex(<igraph.Graph object at 0x7f53957e3940>, 90, {'pullback_set_label': 85, 'partial_cluster_label': -1, 'node_elements': array([56, 96])}),\n",
       "  igraph.Vertex(<igraph.Graph object at 0x7f53957e3940>, 92, {'pullback_set_label': 95, 'partial_cluster_label': -1, 'node_elements': array([56, 75, 80, 96])}),\n",
       "  igraph.Vertex(<igraph.Graph object at 0x7f53957e3940>, 110, {'pullback_set_label': 96, 'partial_cluster_label': -1, 'node_elements': array([75, 80, 96])})],\n",
       " [igraph.Vertex(<igraph.Graph object at 0x7f53957e3940>, 91, {'pullback_set_label': 94, 'partial_cluster_label': -1, 'node_elements': array([56, 80])}),\n",
       "  igraph.Vertex(<igraph.Graph object at 0x7f53957e3940>, 92, {'pullback_set_label': 95, 'partial_cluster_label': -1, 'node_elements': array([56, 75, 80, 96])}),\n",
       "  igraph.Vertex(<igraph.Graph object at 0x7f53957e3940>, 110, {'pullback_set_label': 96, 'partial_cluster_label': -1, 'node_elements': array([75, 80, 96])})]]"
      ]
     },
     "execution_count": 10,
     "metadata": {},
     "output_type": "execute_result"
    }
   ],
   "source": [
    "simplex_list"
   ]
  },
  {
   "cell_type": "code",
   "execution_count": 5,
   "id": "d43e0f20-34fc-40c0-8fef-31bc030a6d15",
   "metadata": {},
   "outputs": [],
   "source": [
    "from itertools import combinations, compress\n",
    "from functools import reduce\n",
    "from operator import iconcat\n",
    "import warnings"
   ]
  },
  {
   "cell_type": "code",
   "execution_count": 6,
   "id": "1452cbb7-aced-451c-91b1-20281cf222c5",
   "metadata": {},
   "outputs": [],
   "source": [
    "def list_2simplices(graph, intersection_data = False):\n",
    "    node_triples = graph.list_triangles()\n",
    "    num_triples = len(node_triples)\n",
    "    simplex_list = [None] * (num_triples+1)\n",
    "    simplex_mask = [False] * (num_triples+1)\n",
    "    intersections = np.zeros(num_triples)\n",
    "    for i, triple in enumerate(node_triples):\n",
    "        intersection = reduce(np.intersect1d, \n",
    "                              graph.vs[triple]['node_elements']\n",
    "                             )\n",
    "        if len(intersection) > 0:\n",
    "            simplex_mask[i] = True\n",
    "            simplex_list[i] = triple\n",
    "            if intersection_data:\n",
    "                intersections[i] = len(intersection)\n",
    "    simplex_list = list(compress(simplex_list, simplex_mask))\n",
    "    if intersection_data:\n",
    "        nonzero_intersections = intersections[intersections > 0]\n",
    "        return simplex_list, nonzero_intersections\n",
    "    if intersection_data is False:\n",
    "        return simplex_list"
   ]
  },
  {
   "cell_type": "code",
   "execution_count": 7,
   "id": "cd907325-dd34-4f5f-8971-051370325217",
   "metadata": {},
   "outputs": [],
   "source": [
    "def new_two_mapper(fancy_edges = False, fancy_simplices = False, **mapper_figure_dict):\n",
    "    if mapper_figure_dict['layout_dim'] != 3:\n",
    "        raise ValueError(\"layout_dim must equal 3 to produce 2Mapper graph\")\n",
    "    graph = mapper_figure_dict['pipeline'].fit_transform(data)\n",
    "    figure = plot_static_mapper_graph(**mapper_figure_dict)\n",
    "    # Fancy edges makes the graph look clunky\n",
    "    if fancy_edges is True:\n",
    "        warnings.warn('fancy_edges can cause visually clunky graphs. Proceed with caution.', RuntimeWarning)\n",
    "        edge_weights = dict(list())\n",
    "        for i,weight in enumerate(graph.es['weight']):\n",
    "            if weight not in edge_weights.keys():\n",
    "                edge_weights[weight] = [i]\n",
    "            else:\n",
    "                edge_weights[weight].append(i)             \n",
    "    if fancy_simplices is True:\n",
    "        simplex_list, simplex_intersections = list_2simplices(graph, intersection_data = True)\n",
    "        opacities = dict(list())\n",
    "        for intersection_value in set(simplex_intersections):\n",
    "            if intersection_value not in opacities.keys():\n",
    "                simplices = np.argwhere(\n",
    "                    np.asarray(simplex_intersections) == intersection_value\n",
    "                )\n",
    "                opacities[intersection_value] = list(simplices.reshape(len(simplices),))\n",
    "            else:\n",
    "                continue\n",
    "    if fancy_simplices is False:         \n",
    "        simplex_list = list_2simplices(graph)\n",
    "        num_simplices = len(simplex_list)\n",
    "        i = np.full(num_simplices, -1)\n",
    "        j = np.full(num_simplices, -1)\n",
    "        k = np.full(num_simplices, -1)\n",
    "        for x in range(num_simplices):\n",
    "            i[x] = simplex_list[x][0]\n",
    "            j[x] = simplex_list[x][1]\n",
    "            k[x] = simplex_list[x][2]\n",
    "    node_pos = np.asarray(graph.layout(mapper_figure_dict['layout'], dim = 3).coords)   \n",
    "    node_colors = figure.data[1].marker.color\n",
    "    node_colorscale = figure.data[1].marker.colorscale\n",
    "    face_color_vals = _get_simplex_colors(node_colors, simplex_list)\n",
    "    face_colors = _get_colors_for_vals(face_color_vals,\n",
    "                                   vmin = np.min(node_colors),\n",
    "                                   vmax = np.max(node_colors),\n",
    "                                   colorscale = node_colorscale,\n",
    "                                   return_hex = True)\n",
    "    if ((fancy_simplices is True) and (fancy_edges is True)):\n",
    "        fancy_figure = plotly.graph_objects.FigureWidget(layout = figure.layout)\n",
    "        \n",
    "        # We first want to add the 2-simplicies with varying opacities\n",
    "        for opacity in opacities:\n",
    "            f = _opacity_trace(opacity, opacities, simplex_list, node_pos, face_colors, node_colorscale)\n",
    "            fancy_figure.add_trace(f)\n",
    "        # We then add the edges with varying line weights\n",
    "        # Note we cannot change the color of each edge due to limitations \n",
    "        # in Plotly.\n",
    "        # If we wanted to do this we would need a trace for each edge color.\n",
    "        for weight in edge_weights:\n",
    "            f = _lineweight_trace(weight, edge_weights, figure)\n",
    "            fancy_figure.add_trace(f)\n",
    "\n",
    "        # Add the node trace from the original figure\n",
    "        fancy_figure.add_trace(figure.data[1])\n",
    "        return fancy_figure\n",
    "    \n",
    "    elif ((fancy_simplices is True) and (fancy_edges is False)):\n",
    "        fancy_figure = plotly.graph_objects.FigureWidget(layout = figure.layout)\n",
    "        for opacity in opacities:\n",
    "            f = _opacity_trace(opacity, opacities, simplex_list, node_pos, face_colors, node_colorscale)\n",
    "            fancy_figure.add_trace(f)\n",
    "        fancy_figure.add_traces([figure.data[0], figure.data[1]])\n",
    "        return fancy_figure\n",
    "    \n",
    "    elif ((fancy_simplices is False) and (fancy_edges is True)):\n",
    "        fancy_figure = plotly.graph_objects.FigureWidget(layout = figure.layout)\n",
    "        for weight in edge_weights:\n",
    "            f = _lineweight_trace(weight, edge_weights, figure)\n",
    "            fancy_figure.add_trace(f)\n",
    "        simplex_trace = plotly.graph_objects.Mesh3d(\n",
    "            x=node_pos[:,0], y=node_pos[:,1], z=node_pos[:,2],\n",
    "            i=i, j=j, k=k,\n",
    "            facecolor = face_colors, \n",
    "            colorscale = node_colorscale,\n",
    "            name = 'simplex_trace',\n",
    "            legendrank = 2000\n",
    "        )\n",
    "        fancy_figure.add_traces([simplex_trace, figure.data[1]])\n",
    "        return fancy_figure\n",
    "        \n",
    "    else:\n",
    "        figure.add_mesh3d(x=node_pos[:,0], y=node_pos[:,1], z=node_pos[:,2],\n",
    "                          i=i, j=j, k=k,\n",
    "                          facecolor = face_colors, \n",
    "                          colorscale = node_colorscale,\n",
    "                          name = 'simplex_trace',\n",
    "                          legendrank = 2000\n",
    "                         )\n",
    "        return figure\n",
    "        \n",
    "def _lineweight_trace(weight, edge_weights, figure):\n",
    "    f = dict()\n",
    "    f['hoverinfo'] = 'none'\n",
    "    f['mode'] = 'lines'\n",
    "    f['line'] = {'color': '#888',\n",
    "                 'width': weight} \n",
    "    f['name'] = f'edge_trace_weight_{weight}'\n",
    "    f['legendrank'] = 1500\n",
    "    f['x'] = list()\n",
    "    f['y'] = list()\n",
    "    f['z'] = list()\n",
    "    for edge in edge_weights[weight]:\n",
    "        f['x'].extend(figure.data[0]['x'][3*edge:3*edge+3])\n",
    "        f['y'].extend(figure.data[0]['y'][3*edge:3*edge+3])\n",
    "        f['z'].extend(figure.data[0]['z'][3*edge:3*edge+3])\n",
    "    return plotly.graph_objects.Scatter3d(f)\n",
    "\n",
    "def _opacity_trace(opacity, opacities, simplex_list, node_pos, face_colors,\n",
    "                   node_colorscale):  \n",
    "    f = dict()\n",
    "    f['i'] = np.full(len(opacities[opacity]), -1)\n",
    "    f['j'] = np.full(len(opacities[opacity]), -1)\n",
    "    f['k'] = np.full(len(opacities[opacity]), -1)\n",
    "    f['facecolor'] = ['a'] * int(len(opacities[opacity]))\n",
    "    for i, x in enumerate(opacities[opacity]):\n",
    "        f['i'][i] = simplex_list[x][0]\n",
    "        f['j'][i] = simplex_list[x][1]\n",
    "        f['k'][i] = simplex_list[x][2]\n",
    "        f['facecolor'][i] = face_colors[x]\n",
    "    f['x'] = node_pos[:,0]\n",
    "    f['y'] = node_pos[:,1]\n",
    "    f['z'] = node_pos[:,2]\n",
    "    f['colorscale'] = node_colorscale\n",
    "    f['name'] = f'simplex_trace_opacity_{opacity}'\n",
    "    if len(opacities) > 1:\n",
    "        f['opacity'] = float((opacity-min(opacities))/(max(opacities)-min(opacities)))\n",
    "    if len(opacities) == 1:\n",
    "        f['opacity'] = 1\n",
    "    f['legendrank'] = 2000                     \n",
    "    return plotly.graph_objects.Mesh3d(f)\n",
    "\n",
    "def _get_simplex_colors(node_colors, simplex_list):\n",
    "    face_color_vals = np.full(len(simplex_list), -1)\n",
    "    for i, x in enumerate(simplex_list):\n",
    "        face_color_vals[i] = np.mean(\n",
    "            [node_colors[x[0]],\n",
    "            node_colors[x[1]],\n",
    "            node_colors[x[2]]]\n",
    "        )\n",
    "    return face_color_vals"
   ]
  },
  {
   "cell_type": "code",
   "execution_count": 8,
   "id": "fba36e76-fc3e-4f5b-852a-08677abd5b71",
   "metadata": {},
   "outputs": [],
   "source": [
    "import time"
   ]
  },
  {
   "cell_type": "code",
   "execution_count": 12,
   "id": "ab2f1d0e-4f3f-4e40-b876-52124f5d6fdd",
   "metadata": {},
   "outputs": [
    {
     "name": "stdout",
     "output_type": "stream",
     "text": [
      "71\n",
      "0.014095544815063477\n"
     ]
    }
   ],
   "source": [
    "s = time.time()\n",
    "print(len(list_2simplices(graph)))\n",
    "e = time.time()\n",
    "print(e-s)"
   ]
  },
  {
   "cell_type": "code",
   "execution_count": 13,
   "id": "e862a9b9-b8f0-4949-8458-02b98ac34848",
   "metadata": {},
   "outputs": [
    {
     "name": "stdout",
     "output_type": "stream",
     "text": [
      "71\n",
      "1.771960735321045\n"
     ]
    }
   ],
   "source": [
    "s = time.time()\n",
    "print(len(two_dim_nerve(graph)))\n",
    "e = time.time()\n",
    "print(e-s)"
   ]
  },
  {
   "cell_type": "code",
   "execution_count": 15,
   "id": "c3587d90-b281-4c51-8567-512dc30edf60",
   "metadata": {},
   "outputs": [
    {
     "data": {
      "text/plain": [
       "72"
      ]
     },
     "execution_count": 15,
     "metadata": {},
     "output_type": "execute_result"
    }
   ],
   "source": [
    "len(graph.list_triangles())"
   ]
  },
  {
   "cell_type": "code",
   "execution_count": 16,
   "id": "02654b02-3505-4feb-8f85-9a6a0ed31f37",
   "metadata": {},
   "outputs": [
    {
     "name": "stdout",
     "output_type": "stream",
     "text": [
      "[Pipeline] ............ (step 1 of 3) Processing scaler, total=   0.0s\n",
      "[Pipeline] ....... (step 2 of 3) Processing filter_func, total=   0.0s\n",
      "[Pipeline] ............. (step 3 of 3) Processing cover, total=   0.3s\n",
      "[Pipeline] .... (step 1 of 3) Processing pullback_cover, total=   0.3s\n",
      "[Pipeline] ........ (step 2 of 3) Processing clustering, total=   0.1s\n",
      "[Pipeline] ............. (step 3 of 3) Processing nerve, total=   0.1s\n"
     ]
    },
    {
     "ename": "NameError",
     "evalue": "name '_mapper_figure_dict' is not defined",
     "output_type": "error",
     "traceback": [
      "\u001b[0;31m---------------------------------------------------------------------------\u001b[0m",
      "\u001b[0;31mNameError\u001b[0m                                 Traceback (most recent call last)",
      "Cell \u001b[0;32mIn[16], line 2\u001b[0m\n\u001b[1;32m      1\u001b[0m mapper_dict \u001b[38;5;241m=\u001b[39m {\u001b[38;5;124m'\u001b[39m\u001b[38;5;124mpipeline\u001b[39m\u001b[38;5;124m'\u001b[39m: pipe, \u001b[38;5;124m'\u001b[39m\u001b[38;5;124mdata\u001b[39m\u001b[38;5;124m'\u001b[39m : data, \u001b[38;5;124m'\u001b[39m\u001b[38;5;124mlayout\u001b[39m\u001b[38;5;124m'\u001b[39m : \u001b[38;5;124m'\u001b[39m\u001b[38;5;124mkk3d\u001b[39m\u001b[38;5;124m'\u001b[39m, \u001b[38;5;124m'\u001b[39m\u001b[38;5;124mlayout_dim\u001b[39m\u001b[38;5;124m'\u001b[39m : \u001b[38;5;241m3\u001b[39m, \u001b[38;5;124m'\u001b[39m\u001b[38;5;124mnode_scale\u001b[39m\u001b[38;5;124m'\u001b[39m : \u001b[38;5;241m25\u001b[39m }\n\u001b[0;32m----> 2\u001b[0m g \u001b[38;5;241m=\u001b[39m \u001b[43mnew_two_mapper\u001b[49m\u001b[43m(\u001b[49m\u001b[38;5;241;43m*\u001b[39;49m\u001b[38;5;241;43m*\u001b[39;49m\u001b[43mmapper_dict\u001b[49m\u001b[43m)\u001b[49m\n\u001b[1;32m      3\u001b[0m g\u001b[38;5;241m.\u001b[39mshow\n",
      "Cell \u001b[0;32mIn[7], line 5\u001b[0m, in \u001b[0;36mnew_two_mapper\u001b[0;34m(fancy_edges, fancy_simplices, **mapper_figure_dict)\u001b[0m\n\u001b[1;32m      3\u001b[0m     \u001b[38;5;28;01mraise\u001b[39;00m \u001b[38;5;167;01mValueError\u001b[39;00m(\u001b[38;5;124m\"\u001b[39m\u001b[38;5;124mlayout_dim must equal 3 to produce 2Mapper graph\u001b[39m\u001b[38;5;124m\"\u001b[39m)\n\u001b[1;32m      4\u001b[0m graph \u001b[38;5;241m=\u001b[39m mapper_figure_dict[\u001b[38;5;124m'\u001b[39m\u001b[38;5;124mpipeline\u001b[39m\u001b[38;5;124m'\u001b[39m]\u001b[38;5;241m.\u001b[39mfit_transform(data)\n\u001b[0;32m----> 5\u001b[0m figure \u001b[38;5;241m=\u001b[39m plot_static_mapper_graph(\u001b[38;5;241m*\u001b[39m\u001b[38;5;241m*\u001b[39m\u001b[43m_mapper_figure_dict\u001b[49m)\n\u001b[1;32m      6\u001b[0m \u001b[38;5;66;03m# Fancy edges makes the graph look clunky\u001b[39;00m\n\u001b[1;32m      7\u001b[0m \u001b[38;5;28;01mif\u001b[39;00m fancy_edges \u001b[38;5;129;01mis\u001b[39;00m \u001b[38;5;28;01mTrue\u001b[39;00m:\n",
      "\u001b[0;31mNameError\u001b[0m: name '_mapper_figure_dict' is not defined"
     ]
    }
   ],
   "source": [
    "mapper_dict = {'pipeline': pipe, 'data' : data, 'layout' : 'kk3d', 'layout_dim' : 3, 'node_scale' : 25 }\n",
    "g = new_two_mapper(**mapper_dict)\n",
    "g.show"
   ]
  },
  {
   "cell_type": "code",
   "execution_count": null,
   "id": "a1239ae4-b44b-42c3-a435-b091e265dbb0",
   "metadata": {},
   "outputs": [],
   "source": []
  }
 ],
 "metadata": {
  "kernelspec": {
   "display_name": "TDA",
   "language": "python",
   "name": "tda"
  },
  "language_info": {
   "codemirror_mode": {
    "name": "ipython",
    "version": 3
   },
   "file_extension": ".py",
   "mimetype": "text/x-python",
   "name": "python",
   "nbconvert_exporter": "python",
   "pygments_lexer": "ipython3",
   "version": "3.9.5"
  }
 },
 "nbformat": 4,
 "nbformat_minor": 5
}
