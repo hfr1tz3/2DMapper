{
 "cells": [
  {
   "cell_type": "code",
   "execution_count": 1,
   "id": "83dd584a-eadb-49af-8e08-f5fc92de08e6",
   "metadata": {},
   "outputs": [],
   "source": [
    "import numpy as np\n",
    "import plotly.graph_objects as go\n",
    "from itertools import combinations\n",
    "from operator import concat\n",
    "import igraph\n",
    "import Surfaces\n",
    "# import TwoMapper\n",
    "from gtda.mapper import (\n",
    "    CubicalCover,\n",
    "    make_mapper_pipeline,\n",
    "    Projection,\n",
    "    plot_static_mapper_graph,\n",
    "    plot_interactive_mapper_graph,\n",
    "    MapperInteractivePlotter,\n",
    "    nerve\n",
    ")\n",
    "from sklearn.cluster import DBSCAN\n",
    "from sklearn.decomposition import PCA\n",
    "from functools import reduce\n",
    "\n",
    "from Giotto2Mapper import (two_dim_nerve, two_mapper)\n",
    "import sympy as sy"
   ]
  },
  {
   "cell_type": "markdown",
   "id": "5ece9ce0-937c-4746-b6bc-e32637bb8e10",
   "metadata": {},
   "source": [
    "## GOALS.\n",
    "\n",
    "We wish to define a novel new higher dimensional cover for Mapper. \n",
    "\n",
    "Input: $f(X)$ which is the image of our data set under some continuous map $f\\colon X \\to \\mathbb{R}^n$\n",
    "1. [x] Need to identify what dimension our image is.\n",
    "2. [x] Embed our image into $\\mathbb{R}^{n+1}$ via the map $v = (v_1,...,v_n)\\mapsto (v_1,...,v_n, -\\sum_{i=1}^n v_n)$]\n",
    "3. [x] Find bounding box for our image $\\iota \\circ f (X)$\n",
    "4. [x] Choose generator matrix $M$ associated with $A_n^*$.\n",
    "-- Note we have special $M$ for $n=2,3$.\n",
    "5. [x] Find scaling coefficient $c$ and scale lattice $cM$.\n",
    "-- Note we will define $c = \\min_{i}\\lceil\\frac{1}{n-intervals}(M_i - m_i)\\rceil$.\n",
    "6. [ ] Find which data points lie in spheres of radius $cR(1+g)$ cenetered at lattice points in the boudning box.\n",
    "-- Note $R$ is the $\\textit{covering radius}$ of $A_n^*$ and $g$ is the `perc_overlap`.\n",
    "7. [ ] Use this mask to define our clusters.\n",
    "\n",
    "Our previous coverclass will be a large influence in how $A_n^*$ our constructed.\n",
    "\n",
    "**It is important to validate that 1-dimensional $A_n^*$ is equivalent to 1-dimensional interval cover**"
   ]
  },
  {
   "cell_type": "code",
   "execution_count": 2,
   "id": "4bc8cb49-0d96-44e5-abe9-2143e43e2074",
   "metadata": {},
   "outputs": [],
   "source": [
    "import numpy as np\n",
    "from sklearn.base import BaseEstimator, TransformerMixin\n",
    "from sklearn.utils import check_array\n",
    "from sklearn.utils.validation import check_is_fitted\n",
    "from gtda.utils.validation import validate_params\n",
    "from gtda.utils.intervals import Interval\n",
    "import warnings\n",
    "from gtda.mapper.utils._cover import _check_has_one_column, _remove_empty_and_duplicate_intervals"
   ]
  },
  {
   "cell_type": "code",
   "execution_count": 3,
   "id": "5d2727ba-dfb7-433d-843f-c1fcc477e15a",
   "metadata": {},
   "outputs": [],
   "source": [
    "class LatticeCover(BaseEstimator, TransformerMixin):\n",
    "    # Parameters\n",
    "    _hyperparameters = {\n",
    "        'n_intervals': {'type': int, 'in': Interval(1, np.inf, closed='left')},\n",
    "        'overlap_frac': {'type': float, 'in': Interval(0, 1, closed = 'neither')}\n",
    "    }\n",
    "    ''' \n",
    "    Attributes\n",
    "    -----------\n",
    "    TBD:\n",
    "    'bounding box'\n",
    "    'lattice points (ball centers)'\n",
    "    'cover radius'\n",
    "    'dim'\n",
    "    MORE??\n",
    "    '''\n",
    "\n",
    "    def __init__(self, n_intervals = 10, overlap_frac = 0.3):\n",
    "        self.n_intervals = n_intervals\n",
    "        self.overlap_frac = overlap_frac\n",
    "    #TO BE CONTINUED."
   ]
  },
  {
   "cell_type": "code",
   "execution_count": 24,
   "id": "c51cd5d4-da14-4766-9b9e-f20335e3c678",
   "metadata": {},
   "outputs": [
    {
     "data": {
      "text/plain": [
       "3"
      ]
     },
     "execution_count": 24,
     "metadata": {},
     "output_type": "execute_result"
    }
   ],
   "source": [
    "a = np.arange(10).reshape((5,2))\n",
    "#b = np.c_(-np.sum(a,axis=1))\n",
    "b = np.c_[a, -np.sum(a,axis=1).T]\n",
    "b[:,:3]\n",
    "b, _find_bounding_box(b, 2, 5)\n",
    "_check_dim(b)"
   ]
  },
  {
   "cell_type": "code",
   "execution_count": 44,
   "id": "23e5eeec-da4f-4983-afa2-c4d30638436f",
   "metadata": {},
   "outputs": [
    {
     "data": {
      "text/plain": [
       "matrix([[ 1.        , -1.        ,  0.        ],\n",
       "        [-0.66666667,  0.33333333,  0.33333333]])"
      ]
     },
     "execution_count": 44,
     "metadata": {},
     "output_type": "execute_result"
    }
   ],
   "source": [
    "M = _get_generator_matrix(2)\n",
    "F = np.asmatrix(np.array([-1,1]))\n",
    "N = np.asmatrix(np.array([-1,1,0,0,-1,1]).reshape((2,3)))\n",
    "np.linalg.det(M @ M.T),np.linalg.det(N @ N.T)\n",
    "np.linalg.det(F@F.T)\n",
    "M @ M.T\n",
    "M"
   ]
  },
  {
   "cell_type": "code",
   "execution_count": 20,
   "id": "e5350056-4dda-455b-850d-4efa3779f704",
   "metadata": {},
   "outputs": [],
   "source": [
    "def _check_dim(X):\n",
    "    if X.shape[1] > 8:\n",
    "        raise ValueError(f\"Why are you using an incredibly high dimensional (dim {X.shape[1]}) cover?? Dont.\")\n",
    "    return X.shape[1]\n",
    "\n",
    "'Embeds our data X\\sub R^{dim} \\righthookarrow R^{dim+1}'\n",
    "def hyperplane_embed(X):\n",
    "    embed = -np.sum(X,axis=1).T\n",
    "    return np.c_[X, embed]\n",
    "'Finds bounds for each coordinate over data set X'\n",
    "'Outputs a (dim+1,2) array'\n",
    "def _find_bounding_box(X, dim, n_intervals, special=False):\n",
    "    coord_array = np.zeros((dim+1,2)) # Embed image into R^{dim+1}\n",
    "    for i in range(dim+1):\n",
    "        coord_array[i,0] = np.min(X[:,i]) # Minimum value in i-th coord\n",
    "        coord_array[i,1] = np.max(X[:,i]) # Maximum value in i-th coord\n",
    "    only_one_pt = all( _ == coord_array.ravel()[0] for _ in coord_array.ravel())\n",
    "    if only_one_pt and n_intervals > 1:\n",
    "        raise ValueError(\n",
    "            f\"Only one unique filter value found, cannot fit\"\n",
    "            f\"{n_intervals} > 1 intervals.\")\n",
    "    if (dim == 2 or dim == 3) and special: # We have special representations for A* in dimensions 2 and 3.\n",
    "        return coord_array[:,:dim]\n",
    "    else:\n",
    "        return coord_array"
   ]
  },
  {
   "cell_type": "code",
   "execution_count": 6,
   "id": "b6786ace-2024-48ce-9059-5d3f2fce3897",
   "metadata": {},
   "outputs": [],
   "source": [
    "def _get_generator_matrix(dim, special=False):\n",
    "    if dim < 2:\n",
    "        raise ValueError(f'Lattice Cover can only be computed with filters with dimension 2 or greater, {dim} entered')\n",
    "        ## CHANGE ABOVE TO WORK FOR DIM 1 ##\n",
    "    if dim == 2 and special:\n",
    "        basis_vectors = np.array([1,0,-1/2,np.sqrt(3)/2]).reshape((2,2))\n",
    "    if dim == 3 and special:\n",
    "        basis_vectors = np.array([2,0,0,0,2,0,1,1,1]).reshape((3,3))\n",
    "    else:\n",
    "        basis_vectors = np.zeros((dim, dim+1))\n",
    "        basis_vectors[dim-1, 0] = -dim/(dim+1)\n",
    "        basis_vectors[dim-1, dim] = 1/(dim+1)\n",
    "        for i in range(dim-1):\n",
    "            basis_vectors[i,0] = 1\n",
    "            basis_vectors[i,i+1] = -1\n",
    "            basis_vectors[dim-1,i+1] = 1/(dim+1)\n",
    "    generator_matrix = np.asmatrix(basis_vectors)\n",
    "    return generator_matrix"
   ]
  },
  {
   "cell_type": "code",
   "execution_count": 36,
   "id": "d6276c3e-c603-4d60-8167-50316fc9f64c",
   "metadata": {},
   "outputs": [],
   "source": [
    "## Taken from:\n",
    "## https://stackoverflow.com/questions/11144513/cartesian-product-of-x-and-y-array-points-into-single-array-of-2d-points\n",
    "def cartesian_product(arrays):\n",
    "    la = len(arrays)\n",
    "    dtype = np.result_type(*arrays)\n",
    "    arr = np.empty([len(a) for a in arrays] + [la])\n",
    "    for i, a in enumerate(np.ix_(*arrays)):\n",
    "        arr[...,i] = a\n",
    "    return arr.reshape(-1, la)"
   ]
  },
  {
   "cell_type": "code",
   "execution_count": 55,
   "id": "6ef998a0-9edd-45d4-9403-57c018b32dcc",
   "metadata": {},
   "outputs": [
    {
     "data": {
      "text/plain": [
       "(3,)"
      ]
     },
     "execution_count": 55,
     "metadata": {},
     "output_type": "execute_result"
    }
   ],
   "source": [
    "c = cartesian_product([np.array([0,1,2]), np.array([3,4])])\n",
    "c @ M\n",
    "d = _find_bounding_box(b,2,3)\n",
    "(d[:,0] - d[:,1]).shape"
   ]
  },
  {
   "cell_type": "code",
   "execution_count": 7,
   "id": "0b0929f4-9538-43fd-9a1c-fd60f9b4af10",
   "metadata": {},
   "outputs": [],
   "source": [
    "def _lattice_cover_limits(bounding_box, dim, n_intervals, overlap_frac, special = False):\n",
    "    generating_matrix = _get_generating_matrix(dim, special)\n",
    "    ldim = generating_matrix.shape[1]\n",
    "    assert bounding_box.shape[0] == ldim\n",
    "    bound_vector = bounding_box[:,1] - bounding_box[:,0]\n",
    "    scale = np.mean(np.ceil(bound_vector/n_intervals))\n",
    "    assert scale >= 1, f'{scale} is not greater than one.'\n",
    "    scaled_min_bound = np.floor(bounding_box[:,0] / scale) # minimum integer values\n",
    "    scaled_max_bound = np.ceil(bounding_box[:,1] / scale) # maximum integer values\n",
    "    xi_coord_arrays = [np.arange(start = scaled_min_bound[k], stop = scaled_max_bound[k], step = 1) for k in range(ldim)]\n",
    "    xi_vectors = cartesian_product(xi_coord_arrays) # all possible integer vectors to generate lattice points\n",
    "    lattice_points = xi_vectors @ generating_matrix\n",
    "    "
   ]
  },
  {
   "cell_type": "code",
   "execution_count": null,
   "id": "2bf8c59a-bb07-400f-92b7-30272a0b5c30",
   "metadata": {},
   "outputs": [],
   "source": []
  }
 ],
 "metadata": {
  "kernelspec": {
   "display_name": "TDA",
   "language": "python",
   "name": "tda"
  },
  "language_info": {
   "codemirror_mode": {
    "name": "ipython",
    "version": 3
   },
   "file_extension": ".py",
   "mimetype": "text/x-python",
   "name": "python",
   "nbconvert_exporter": "python",
   "pygments_lexer": "ipython3",
   "version": "3.9.5"
  }
 },
 "nbformat": 4,
 "nbformat_minor": 5
}
