{
 "cells": [
  {
   "cell_type": "code",
   "execution_count": 3,
   "id": "d6e87053-4adb-463b-b62e-7966c82dbdf9",
   "metadata": {},
   "outputs": [
    {
     "ename": "IndentationError",
     "evalue": "expected an indented block (TwoMapper.py, line 15)",
     "output_type": "error",
     "traceback": [
      "Traceback \u001b[0;36m(most recent call last)\u001b[0m:\n",
      "  File \u001b[1;32m~/.local/lib/python3.8/site-packages/IPython/core/interactiveshell.py:3369\u001b[0m in \u001b[1;35mrun_code\u001b[0m\n    exec(code_obj, self.user_global_ns, self.user_ns)\n",
      "\u001b[0;36m  Input \u001b[0;32mIn [3]\u001b[0;36m in \u001b[0;35m<cell line: 1>\u001b[0;36m\u001b[0m\n\u001b[0;31m    import TwoMapper\u001b[0m\n",
      "\u001b[0;36m  File \u001b[0;32m~/2DMapper/TwoMapper.py:15\u001b[0;36m\u001b[0m\n\u001b[0;31m    ' For a mapper simplicial complex constructed using km.KeplerMapper.map we want to find higher dimensional simplices in the Cech-complex.'\u001b[0m\n\u001b[0m    ^\u001b[0m\n\u001b[0;31mIndentationError\u001b[0m\u001b[0;31m:\u001b[0m expected an indented block\n"
     ]
    }
   ],
   "source": [
    "import TwoMapper\n",
    "import Surfaces\n",
    "import numpy as np\n",
    "\n",
    "import kmapper as km\n",
    "from kmapper import jupyter\n",
    "from kmapper import nerve\n",
    "from kmapper.plotlyviz import plotlyviz\n",
    "\n",
    "from sklearn import datasets\n",
    "from sklearn.cluster import DBSCAN\n",
    "from sklearn.decomposition import PCA\n",
    "import plotly.graph_objects as go\n",
    "import matplotlib.pyplot as plt"
   ]
  },
  {
   "cell_type": "code",
   "execution_count": null,
   "id": "1a6e6651-b1a6-4d6f-bd57-bf684deaca04",
   "metadata": {},
   "outputs": [],
   "source": []
  }
 ],
 "metadata": {
  "kernelspec": {
   "display_name": "Python 3 (ipykernel)",
   "language": "python",
   "name": "python3"
  },
  "language_info": {
   "codemirror_mode": {
    "name": "ipython",
    "version": 3
   },
   "file_extension": ".py",
   "mimetype": "text/x-python",
   "name": "python",
   "nbconvert_exporter": "python",
   "pygments_lexer": "ipython3",
   "version": "3.8.10"
  }
 },
 "nbformat": 4,
 "nbformat_minor": 5
}
