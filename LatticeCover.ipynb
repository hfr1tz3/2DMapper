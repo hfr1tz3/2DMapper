{
 "cells": [
  {
   "cell_type": "code",
   "execution_count": 2,
   "id": "83dd584a-eadb-49af-8e08-f5fc92de08e6",
   "metadata": {},
   "outputs": [],
   "source": [
    "import numpy as np\n",
    "import plotly.graph_objects as go\n",
    "from itertools import combinations\n",
    "from operator import concat\n",
    "import igraph\n",
    "import Surfaces\n",
    "# import TwoMapper\n",
    "from gtda.mapper import (\n",
    "    CubicalCover,\n",
    "    make_mapper_pipeline,\n",
    "    Projection,\n",
    "    plot_static_mapper_graph,\n",
    "    plot_interactive_mapper_graph,\n",
    "    MapperInteractivePlotter,\n",
    "    nerve\n",
    ")\n",
    "from sklearn.cluster import DBSCAN\n",
    "from sklearn.decomposition import PCA\n",
    "from functools import reduce\n",
    "\n",
    "from Giotto2Mapper import (two_dim_nerve, two_mapper)\n",
    "import sympy as sy"
   ]
  },
  {
   "cell_type": "markdown",
   "id": "5ece9ce0-937c-4746-b6bc-e32637bb8e10",
   "metadata": {},
   "source": [
    "## GOALS.\n",
    "\n",
    "We wish to define a novel new higher dimensional cover for Mapper. \n",
    "\n",
    "Input: $f(X)$ which is the image of our data set under some continuous map $f\\colon X \\to \\mathbb{R}^n$\n",
    "1. [x] Need to identify what dimension our image is.\n",
    "2. [x] Embed our image into $\\mathbb{R}^{n+1}$ via the map $v = (v_1,...,v_n)\\mapsto (v_1,...,v_n, -\\sum_{i=1}^n v_n)$]\n",
    "3. [x] Find bounding box for our image $\\iota \\circ f (X)$\n",
    "4. [ ] Choose generator matrix $M$ associated with $A_n^*$.\n",
    "-- Note we have special $M$ for $n=2,3$.\n",
    "5. [ ] Find scaling coefficient $c$ and scale lattice $cM$.\n",
    "-- Note we will define $c = \\min_{i}\\frac{1}{n-intervals}(M_i - m_i)$.\n",
    "6. [ ] Find which data points lie in spheres of radius $cR(1+g)$ cenetered at lattice points in the boudning box.\n",
    "-- Note $R$ is the $\\textit{covering radius}$ of $A_n^*$ and $g$ is the `perc_overlap`.\n",
    "7. [ ] Use this mask to define our clusters.\n",
    "\n",
    "Our previous coverclass will be a large influence in how $A_n^*$ our constructed."
   ]
  },
  {
   "cell_type": "code",
   "execution_count": 1,
   "id": "4bc8cb49-0d96-44e5-abe9-2143e43e2074",
   "metadata": {},
   "outputs": [],
   "source": [
    "import numpy as np\n",
    "from sklearn.base import BaseEstimator, TransformerMixin\n",
    "from sklearn.utils import check_array\n",
    "from sklearn.utils.validation import check_is_fitted\n",
    "from gtda.utils.validation import validate_params\n",
    "from gtda.utils.intervals import Interval\n",
    "import warnings\n",
    "from gtda.mapper.utils._cover import _check_has_one_column, _remove_empty_and_duplicate_intervals"
   ]
  },
  {
   "cell_type": "code",
   "execution_count": 4,
   "id": "5d2727ba-dfb7-433d-843f-c1fcc477e15a",
   "metadata": {},
   "outputs": [],
   "source": [
    "class LatticeCover(BaseEstimator, TransformerMixin):\n",
    "    # Parameters\n",
    "    _hyperparameters = {\n",
    "        'n_intervals': {'type': int, 'in': Interval(1, np.inf, closed='left')},\n",
    "        'overlap_frac': {'type': float, 'in': Interval(0, 1, closed = 'neither')}\n",
    "    }\n",
    "    ''' \n",
    "    Attributes\n",
    "    -----------\n",
    "    TBD:\n",
    "    'bounding box'\n",
    "    'lattice points (ball centers)'\n",
    "    'cover radius'\n",
    "    'dim'\n",
    "    MORE??\n",
    "    '''\n",
    "\n",
    "    def __init__(self, n_intervals = 10, overlap_frac = 0.3):\n",
    "        self.n_intervals = n_intervals\n",
    "        self.overlap_frac = overlap_frac\n",
    "    #TO BE CONTINUED."
   ]
  },
  {
   "cell_type": "code",
   "execution_count": 34,
   "id": "c51cd5d4-da14-4766-9b9e-f20335e3c678",
   "metadata": {},
   "outputs": [
    {
     "data": {
      "text/plain": [
       "array([[  0,   1,  -1],\n",
       "       [  2,   3,  -5],\n",
       "       [  4,   5,  -9],\n",
       "       [  6,   7, -13],\n",
       "       [  8,   9, -17]])"
      ]
     },
     "execution_count": 34,
     "metadata": {},
     "output_type": "execute_result"
    }
   ],
   "source": [
    "a = np.arange(10).reshape((5,2))\n",
    "#b = np.c_(-np.sum(a,axis=1))\n",
    "b = np.c_[a, -np.sum(a,axis=1).T]\n",
    "b[:,:3]"
   ]
  },
  {
   "cell_type": "code",
   "execution_count": 36,
   "id": "e5350056-4dda-455b-850d-4efa3779f704",
   "metadata": {},
   "outputs": [],
   "source": [
    "def _check_dim(X):\n",
    "    if X.shape[1] > 8:\n",
    "        raise ValueError(f\"Why are you using an incredibly high dimensional (dim {X.shape[1]}) cover?? Dont.\")\n",
    "    return X.shape[1]\n",
    "\n",
    "'Embeds our data X\\sub R^{dim} \\righthookarrow R^{dim+1}'\n",
    "def hyperplane_embed(X):\n",
    "    embed = -np.sum(X,axis=1).T\n",
    "    return np.c_[X, embed]\n",
    "\n",
    "def _find_bounding_box(X, dim, n_intervals):\n",
    "    coord_array = np.zeros((dim+1,2)) # Embed image into R^{dim+1}\n",
    "    for i in range(dim):\n",
    "        coord_array[i,0] = np.min(X[:,i]) # Minimum value in i-th coord\n",
    "        coord_array[i,1] = np.max(X[:,i]) # Maximum value in i-th coord\n",
    "    only_one_pt = all( _ == coord_array.ravel()[0] for _ in coord_array.ravel())\n",
    "    if only_one_pt and n_intervals > 1:\n",
    "        raise ValueError(\n",
    "            f\"Only one unique filter value found, cannot fit\"\n",
    "            f\"{n_intervals} > 1 intervals.\")\n",
    "    if dim == 2 or dim == 3: # We have special representations for A* in dimensions 2 and 3.\n",
    "        return coord_array[:,:dim]\n",
    "    else:\n",
    "        return coord_array"
   ]
  },
  {
   "cell_type": "code",
   "execution_count": null,
   "id": "0b0929f4-9538-43fd-9a1c-fd60f9b4af10",
   "metadata": {},
   "outputs": [],
   "source": []
  }
 ],
 "metadata": {
  "kernelspec": {
   "display_name": "TDA",
   "language": "python",
   "name": "tda"
  },
  "language_info": {
   "codemirror_mode": {
    "name": "ipython",
    "version": 3
   },
   "file_extension": ".py",
   "mimetype": "text/x-python",
   "name": "python",
   "nbconvert_exporter": "python",
   "pygments_lexer": "ipython3",
   "version": "3.9.5"
  }
 },
 "nbformat": 4,
 "nbformat_minor": 5
}
